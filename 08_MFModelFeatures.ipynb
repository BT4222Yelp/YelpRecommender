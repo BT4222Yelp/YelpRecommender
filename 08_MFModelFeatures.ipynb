{
 "cells": [
  {
   "cell_type": "code",
   "execution_count": 1,
   "metadata": {},
   "outputs": [
    {
     "name": "stderr",
     "output_type": "stream",
     "text": [
      "/Users/sinhyejin/Desktop/Year4/BT4222/GroupProject/.venv/lib/python3.12/site-packages/tqdm/auto.py:21: TqdmWarning: IProgress not found. Please update jupyter and ipywidgets. See https://ipywidgets.readthedocs.io/en/stable/user_install.html\n",
      "  from .autonotebook import tqdm as notebook_tqdm\n"
     ]
    }
   ],
   "source": [
    "import numpy as np\n",
    "import pandas as pd\n",
    "import torch\n",
    "import torch.nn as nn\n",
    "import torch.optim as optim\n",
    "from torch.utils.data import DataLoader\n",
    "from sklearn.preprocessing import LabelEncoder\n",
    "import time, numpy as np\n",
    "from sklearn.metrics import mean_squared_error\n",
    "from collections import defaultdict\n",
    "from torch.utils.data import Dataset, DataLoader\n",
    "\n",
    "from sentence_transformers import SentenceTransformer\n",
    "import numpy as np\n",
    "from sklearn.preprocessing import MinMaxScaler"
   ]
  },
  {
   "cell_type": "markdown",
   "metadata": {},
   "source": [
    "#### Load Datasets"
   ]
  },
  {
   "cell_type": "code",
   "execution_count": 2,
   "metadata": {},
   "outputs": [
    {
     "name": "stderr",
     "output_type": "stream",
     "text": [
      "/var/folders/6m/51l9cwxd4px017cch8f2654r0000gn/T/ipykernel_36085/1325913468.py:4: DtypeWarning: Columns (7) have mixed types. Specify dtype option on import or set low_memory=False.\n",
      "  user_df = pd.read_csv('PA_restaurant_user_with_loc.csv')\n"
     ]
    }
   ],
   "source": [
    "review_df = pd.read_csv('review_final.csv')\n",
    "restaurant_df = pd.read_csv('restaurants_final.csv')\n",
    "restaurant_df.drop('Unnamed: 0', axis=1, inplace=True)\n",
    "user_df = pd.read_csv('PA_restaurant_user_with_loc.csv')"
   ]
  },
  {
   "cell_type": "markdown",
   "metadata": {},
   "source": [
    "#### Matrix Factorization "
   ]
  },
  {
   "cell_type": "markdown",
   "metadata": {},
   "source": [
    "##### Prepare Item Features "
   ]
  },
  {
   "cell_type": "code",
   "execution_count": 3,
   "metadata": {},
   "outputs": [
    {
     "data": {
      "text/html": [
       "<div>\n",
       "<style scoped>\n",
       "    .dataframe tbody tr th:only-of-type {\n",
       "        vertical-align: middle;\n",
       "    }\n",
       "\n",
       "    .dataframe tbody tr th {\n",
       "        vertical-align: top;\n",
       "    }\n",
       "\n",
       "    .dataframe thead th {\n",
       "        text-align: right;\n",
       "    }\n",
       "</style>\n",
       "<table border=\"1\" class=\"dataframe\">\n",
       "  <thead>\n",
       "    <tr style=\"text-align: right;\">\n",
       "      <th></th>\n",
       "      <th>review_id</th>\n",
       "      <th>user_id</th>\n",
       "      <th>business_id</th>\n",
       "      <th>stars</th>\n",
       "      <th>useful</th>\n",
       "      <th>funny</th>\n",
       "      <th>cool</th>\n",
       "      <th>text</th>\n",
       "      <th>date</th>\n",
       "      <th>text_length</th>\n",
       "      <th>processed_review</th>\n",
       "      <th>sum_votes</th>\n",
       "      <th>review_age_days</th>\n",
       "      <th>review_weight</th>\n",
       "      <th>weighted_stars</th>\n",
       "    </tr>\n",
       "  </thead>\n",
       "  <tbody>\n",
       "    <tr>\n",
       "      <th>0</th>\n",
       "      <td>KU_O5udG6zpxOg-VcAEodg</td>\n",
       "      <td>mh_-eMZ6K5RLWhZyISBhwA</td>\n",
       "      <td>XQfwVwDr-v0ZS3_CbbE5Xw</td>\n",
       "      <td>3.0</td>\n",
       "      <td>0</td>\n",
       "      <td>0</td>\n",
       "      <td>0</td>\n",
       "      <td>If you decide to eat here, just be aware it is...</td>\n",
       "      <td>2018-07-07 22:09:11</td>\n",
       "      <td>101</td>\n",
       "      <td>decide eat aware going take hour beginning end...</td>\n",
       "      <td>0</td>\n",
       "      <td>2369</td>\n",
       "      <td>0.712890</td>\n",
       "      <td>2.138669</td>\n",
       "    </tr>\n",
       "    <tr>\n",
       "      <th>1</th>\n",
       "      <td>AqPFMleE6RsU23_auESxiA</td>\n",
       "      <td>_7bHUi9Uuf5__HHc_Q8guQ</td>\n",
       "      <td>kxX2SOes4o-D3ZQBkiMRfA</td>\n",
       "      <td>5.0</td>\n",
       "      <td>1</td>\n",
       "      <td>0</td>\n",
       "      <td>1</td>\n",
       "      <td>Wow!  Yummy, different,  delicious.   Our favo...</td>\n",
       "      <td>2015-01-04 00:01:03</td>\n",
       "      <td>48</td>\n",
       "      <td>wow yummy different delicious favorite lamb cu...</td>\n",
       "      <td>2</td>\n",
       "      <td>3649</td>\n",
       "      <td>0.593757</td>\n",
       "      <td>2.968783</td>\n",
       "    </tr>\n",
       "  </tbody>\n",
       "</table>\n",
       "</div>"
      ],
      "text/plain": [
       "                review_id                 user_id             business_id  \\\n",
       "0  KU_O5udG6zpxOg-VcAEodg  mh_-eMZ6K5RLWhZyISBhwA  XQfwVwDr-v0ZS3_CbbE5Xw   \n",
       "1  AqPFMleE6RsU23_auESxiA  _7bHUi9Uuf5__HHc_Q8guQ  kxX2SOes4o-D3ZQBkiMRfA   \n",
       "\n",
       "   stars  useful  funny  cool  \\\n",
       "0    3.0       0      0     0   \n",
       "1    5.0       1      0     1   \n",
       "\n",
       "                                                text                 date  \\\n",
       "0  If you decide to eat here, just be aware it is...  2018-07-07 22:09:11   \n",
       "1  Wow!  Yummy, different,  delicious.   Our favo...  2015-01-04 00:01:03   \n",
       "\n",
       "   text_length                                   processed_review  sum_votes  \\\n",
       "0          101  decide eat aware going take hour beginning end...          0   \n",
       "1           48  wow yummy different delicious favorite lamb cu...          2   \n",
       "\n",
       "   review_age_days  review_weight  weighted_stars  \n",
       "0             2369       0.712890        2.138669  \n",
       "1             3649       0.593757        2.968783  "
      ]
     },
     "execution_count": 3,
     "metadata": {},
     "output_type": "execute_result"
    }
   ],
   "source": [
    "review_df.head(2)"
   ]
  },
  {
   "cell_type": "code",
   "execution_count": 4,
   "metadata": {},
   "outputs": [],
   "source": [
    "def create_full_description(df, text_features):\n",
    "    features = text_features\n",
    "    df[features] = df[features].fillna('')\n",
    "    df['editorial_summary'] = df['editorial_summary'].apply(lambda x: x if x.strip() != '' else '')\n",
    "    df['categories'] = df['categories'].str.replace(',', ' ')\n",
    "    df.loc[df['editorial_summary'].str.strip() == '', 'editorial_summary'] = (\n",
    "        df['categories']\n",
    "    )\n",
    "    for col in text_features:\n",
    "        df[col] = df[col].str.replace(',', ' ')\n",
    "        \n",
    "    # Combine all into a single description column\n",
    "    df['description'] = df[text_features]\\\n",
    "        .agg(' '.join, axis=1)\\\n",
    "        .str.replace(r'\\s+', ' ', regex=True)\\\n",
    "        .str.strip()\n",
    "    return df"
   ]
  },
  {
   "cell_type": "code",
   "execution_count": 5,
   "metadata": {},
   "outputs": [
    {
     "data": {
      "text/html": [
       "<div>\n",
       "<style scoped>\n",
       "    .dataframe tbody tr th:only-of-type {\n",
       "        vertical-align: middle;\n",
       "    }\n",
       "\n",
       "    .dataframe tbody tr th {\n",
       "        vertical-align: top;\n",
       "    }\n",
       "\n",
       "    .dataframe thead th {\n",
       "        text-align: right;\n",
       "    }\n",
       "</style>\n",
       "<table border=\"1\" class=\"dataframe\">\n",
       "  <thead>\n",
       "    <tr style=\"text-align: right;\">\n",
       "      <th></th>\n",
       "      <th>business_id</th>\n",
       "      <th>description</th>\n",
       "      <th>price_level</th>\n",
       "      <th>yelp_rating</th>\n",
       "    </tr>\n",
       "  </thead>\n",
       "  <tbody>\n",
       "    <tr>\n",
       "      <th>0</th>\n",
       "      <td>--epgcb7xHGuJ-4PUeSLAw</td>\n",
       "      <td>Restaurants Food Bagels Sandwiches Breakfast &amp;...</td>\n",
       "      <td>1.0</td>\n",
       "      <td>3.0</td>\n",
       "    </tr>\n",
       "    <tr>\n",
       "      <th>1</th>\n",
       "      <td>-0FX23yAacC4bbLaGPvyxw</td>\n",
       "      <td>American (Traditional) Restaurants American (T...</td>\n",
       "      <td>3.0</td>\n",
       "      <td>3.5</td>\n",
       "    </tr>\n",
       "  </tbody>\n",
       "</table>\n",
       "</div>"
      ],
      "text/plain": [
       "              business_id                                        description  \\\n",
       "0  --epgcb7xHGuJ-4PUeSLAw  Restaurants Food Bagels Sandwiches Breakfast &...   \n",
       "1  -0FX23yAacC4bbLaGPvyxw  American (Traditional) Restaurants American (T...   \n",
       "\n",
       "   price_level  yelp_rating  \n",
       "0          1.0          3.0  \n",
       "1          3.0          3.5  "
      ]
     },
     "execution_count": 5,
     "metadata": {},
     "output_type": "execute_result"
    }
   ],
   "source": [
    "item_df = restaurant_df.copy() \n",
    "text_features = ['categories', 'editorial_summary', 'city']\n",
    "item_df = create_full_description(item_df, text_features)\n",
    "item_df.head(2)\n",
    "# Select Features \n",
    "item_df[['business_id', 'description', 'price_level', 'yelp_rating']].head(2)"
   ]
  },
  {
   "cell_type": "code",
   "execution_count": 6,
   "metadata": {},
   "outputs": [],
   "source": [
    "# Load SBERT model\n",
    "sbert_model = SentenceTransformer('all-MiniLM-L6-v2')\n",
    "# Apply SBERT embedding to each restaurant description\n",
    "item_df['sbert_embedding'] = item_df['description'].apply(lambda x: sbert_model.encode(x, show_progress_bar=False))\n",
    "# Create the matrix of all item embeddings\n",
    "embedding_matrix = np.vstack(item_df['sbert_embedding'].values)"
   ]
  },
  {
   "cell_type": "code",
   "execution_count": 7,
   "metadata": {},
   "outputs": [],
   "source": [
    "scaler = MinMaxScaler()\n",
    "numeric_features = scaler.fit_transform(item_df[['price_level', 'yelp_rating']])\n",
    "\n",
    "# Combine SBERT with numeric features\n",
    "item_features = np.hstack([embedding_matrix, numeric_features])\n",
    "# Convert to torch tensor \n",
    "item_features_tensor = torch.tensor(item_features, dtype=torch.float32)\n",
    "item_features_tensor = torch.nan_to_num(item_features_tensor, nan=0.0)"
   ]
  },
  {
   "cell_type": "code",
   "execution_count": 8,
   "metadata": {},
   "outputs": [],
   "source": [
    "torch.save(item_features_tensor, 'item_features_tensor.pt')"
   ]
  },
  {
   "cell_type": "markdown",
   "metadata": {},
   "source": [
    "##### Prepare User Features "
   ]
  },
  {
   "cell_type": "code",
   "execution_count": 9,
   "metadata": {},
   "outputs": [
    {
     "data": {
      "text/html": [
       "<div>\n",
       "<style scoped>\n",
       "    .dataframe tbody tr th:only-of-type {\n",
       "        vertical-align: middle;\n",
       "    }\n",
       "\n",
       "    .dataframe tbody tr th {\n",
       "        vertical-align: top;\n",
       "    }\n",
       "\n",
       "    .dataframe thead th {\n",
       "        text-align: right;\n",
       "    }\n",
       "</style>\n",
       "<table border=\"1\" class=\"dataframe\">\n",
       "  <thead>\n",
       "    <tr style=\"text-align: right;\">\n",
       "      <th></th>\n",
       "      <th>user_id</th>\n",
       "      <th>name</th>\n",
       "      <th>review_count</th>\n",
       "      <th>yelping_since</th>\n",
       "      <th>useful</th>\n",
       "      <th>funny</th>\n",
       "      <th>cool</th>\n",
       "      <th>elite</th>\n",
       "      <th>friends</th>\n",
       "      <th>fans</th>\n",
       "      <th>...</th>\n",
       "      <th>compliment_cute</th>\n",
       "      <th>compliment_list</th>\n",
       "      <th>compliment_note</th>\n",
       "      <th>compliment_plain</th>\n",
       "      <th>compliment_cool</th>\n",
       "      <th>compliment_funny</th>\n",
       "      <th>compliment_writer</th>\n",
       "      <th>compliment_photos</th>\n",
       "      <th>('latitude', 'mean')</th>\n",
       "      <th>('longitude', 'mean')</th>\n",
       "    </tr>\n",
       "  </thead>\n",
       "  <tbody>\n",
       "    <tr>\n",
       "      <th>0</th>\n",
       "      <td>qVc8ODYU5SZjKXVBgXdI7w</td>\n",
       "      <td>Walker</td>\n",
       "      <td>585</td>\n",
       "      <td>2007-01-25 16:47:26</td>\n",
       "      <td>7217</td>\n",
       "      <td>1259</td>\n",
       "      <td>5994</td>\n",
       "      <td>2007</td>\n",
       "      <td>NSCy54eWehBJyZdG2iE84w, pe42u7DcCH2QmI81NX-8qA...</td>\n",
       "      <td>267</td>\n",
       "      <td>...</td>\n",
       "      <td>56</td>\n",
       "      <td>18</td>\n",
       "      <td>232</td>\n",
       "      <td>844</td>\n",
       "      <td>467</td>\n",
       "      <td>467</td>\n",
       "      <td>239</td>\n",
       "      <td>180</td>\n",
       "      <td>39.959457</td>\n",
       "      <td>-75.169912</td>\n",
       "    </tr>\n",
       "    <tr>\n",
       "      <th>1</th>\n",
       "      <td>j14WgRoU_-2ZE1aw1dXrJg</td>\n",
       "      <td>Daniel</td>\n",
       "      <td>4333</td>\n",
       "      <td>2009-01-25 04:35:42</td>\n",
       "      <td>43091</td>\n",
       "      <td>13066</td>\n",
       "      <td>27281</td>\n",
       "      <td>2009,2010,2011,2012,2013,2014,2015,2016,2017,2...</td>\n",
       "      <td>ueRPE0CX75ePGMqOFVj6IQ, 52oH4DrRvzzl8wh5UXyU0A...</td>\n",
       "      <td>3138</td>\n",
       "      <td>...</td>\n",
       "      <td>157</td>\n",
       "      <td>251</td>\n",
       "      <td>1847</td>\n",
       "      <td>7054</td>\n",
       "      <td>3131</td>\n",
       "      <td>3131</td>\n",
       "      <td>1521</td>\n",
       "      <td>1946</td>\n",
       "      <td>39.988870</td>\n",
       "      <td>-75.191895</td>\n",
       "    </tr>\n",
       "  </tbody>\n",
       "</table>\n",
       "<p>2 rows × 24 columns</p>\n",
       "</div>"
      ],
      "text/plain": [
       "                  user_id    name  review_count        yelping_since  useful  \\\n",
       "0  qVc8ODYU5SZjKXVBgXdI7w  Walker           585  2007-01-25 16:47:26    7217   \n",
       "1  j14WgRoU_-2ZE1aw1dXrJg  Daniel          4333  2009-01-25 04:35:42   43091   \n",
       "\n",
       "   funny   cool                                              elite  \\\n",
       "0   1259   5994                                               2007   \n",
       "1  13066  27281  2009,2010,2011,2012,2013,2014,2015,2016,2017,2...   \n",
       "\n",
       "                                             friends  fans  ...  \\\n",
       "0  NSCy54eWehBJyZdG2iE84w, pe42u7DcCH2QmI81NX-8qA...   267  ...   \n",
       "1  ueRPE0CX75ePGMqOFVj6IQ, 52oH4DrRvzzl8wh5UXyU0A...  3138  ...   \n",
       "\n",
       "   compliment_cute  compliment_list  compliment_note  compliment_plain  \\\n",
       "0               56               18              232               844   \n",
       "1              157              251             1847              7054   \n",
       "\n",
       "   compliment_cool  compliment_funny  compliment_writer  compliment_photos  \\\n",
       "0              467               467                239                180   \n",
       "1             3131              3131               1521               1946   \n",
       "\n",
       "   ('latitude', 'mean')  ('longitude', 'mean')  \n",
       "0             39.959457             -75.169912  \n",
       "1             39.988870             -75.191895  \n",
       "\n",
       "[2 rows x 24 columns]"
      ]
     },
     "execution_count": 9,
     "metadata": {},
     "output_type": "execute_result"
    }
   ],
   "source": [
    "user_df.head(2)"
   ]
  },
  {
   "cell_type": "code",
   "execution_count": 10,
   "metadata": {},
   "outputs": [],
   "source": [
    "# Select relevant columns\n",
    "user_features = user_df[['review_count', 'average_stars', 'fans']].values\n",
    "# Normalize\n",
    "scaler = MinMaxScaler()\n",
    "user_features_scaled = scaler.fit_transform(user_features)\n",
    "# Convert to torch tensor\n",
    "user_features_tensor = torch.tensor(user_features_scaled, dtype=torch.float32)"
   ]
  },
  {
   "cell_type": "code",
   "execution_count": 11,
   "metadata": {},
   "outputs": [],
   "source": [
    "torch.save(user_features_tensor, 'user_features_tensor.pt')"
   ]
  },
  {
   "cell_type": "code",
   "execution_count": 12,
   "metadata": {},
   "outputs": [],
   "source": [
    "import pickle \n",
    "user_le = LabelEncoder()\n",
    "item_le = LabelEncoder()\n",
    "review_df['user_id'] = user_le.fit_transform(review_df['user_id'])\n",
    "review_df['business_id'] = item_le.fit_transform(review_df['business_id'])\n",
    "\n",
    "with open('user_mf_encoder.pkl', 'wb') as f:\n",
    "    pickle.dump(user_le, f)\n",
    "\n",
    "with open('item_mf_encoder.pkl', 'wb') as f:\n",
    "    pickle.dump(item_le, f)"
   ]
  },
  {
   "cell_type": "code",
   "execution_count": 13,
   "metadata": {},
   "outputs": [],
   "source": [
    "class RatingsDataset(Dataset):\n",
    "    def __init__(self, df):\n",
    "        self.users = torch.LongTensor(df['user_id'].values)\n",
    "        self.items = torch.LongTensor(df['business_id'].values)\n",
    "        self.ratings = torch.FloatTensor(df['stars'].values)\n",
    "\n",
    "    def __len__(self):\n",
    "        return len(self.users)\n",
    "\n",
    "    def __getitem__(self, idx):\n",
    "        return self.users[idx], self.items[idx], self.ratings[idx]\n",
    "\n",
    "def create_dataloaders(train_df, test_df, batch_size):\n",
    "\n",
    "    train_dataset = RatingsDataset(train_df)\n",
    "    test_dataset = RatingsDataset(test_df)\n",
    "\n",
    "    train_loader = DataLoader(train_dataset, batch_size=batch_size, shuffle=True)\n",
    "    test_loader = DataLoader(test_dataset, batch_size=batch_size, shuffle=False)\n",
    "\n",
    "    return train_loader, test_loader\n",
    "\n",
    "train_df = review_df[review_df['date'] < '2021-01-01']\n",
    "test_df = review_df[review_df['date'] >= '2021-01-01']\n",
    "\n",
    "train_loader, test_loader = create_dataloaders(train_df, test_df, batch_size=256)"
   ]
  },
  {
   "cell_type": "code",
   "execution_count": 14,
   "metadata": {},
   "outputs": [
    {
     "name": "stdout",
     "output_type": "stream",
     "text": [
      "Train Loader size: 2992\n",
      "Test Loader size: 277\n"
     ]
    }
   ],
   "source": [
    "print(f'Train Loader size: {len(train_loader)}')\n",
    "print(f\"Test Loader size: {len(test_loader)}\")"
   ]
  },
  {
   "cell_type": "code",
   "execution_count": 15,
   "metadata": {},
   "outputs": [],
   "source": [
    "class MF(nn.Module):\n",
    "    def __init__(self, n_users, n_items, user_feat_dim, item_feat_dim, embedding_dim=64):\n",
    "        super().__init__()\n",
    "        self.user_emb = nn.Embedding(n_users, embedding_dim)\n",
    "        self.item_emb = nn.Embedding(n_items, embedding_dim)\n",
    "\n",
    "        # Side feature projection layers\n",
    "        self.user_feat_proj = nn.Linear(user_feat_dim, embedding_dim)\n",
    "        self.item_feat_proj = nn.Linear(item_feat_dim, embedding_dim)\n",
    "\n",
    "        # Bias terms\n",
    "        self.user_bias = nn.Embedding(n_users, 1)\n",
    "        self.item_bias = nn.Embedding(n_items, 1)\n",
    "        self.global_bias = nn.Parameter(torch.tensor([0.0]))\n",
    "\n",
    "\n",
    "        # Initialization\n",
    "        nn.init.normal_(self.user_emb.weight, std=0.01)\n",
    "        nn.init.normal_(self.item_emb.weight, std=0.01)\n",
    "        nn.init.zeros_(self.user_bias.weight)\n",
    "        nn.init.zeros_(self.item_bias.weight)\n",
    "        nn.init.xavier_uniform_(self.user_feat_proj.weight)\n",
    "        nn.init.xavier_uniform_(self.item_feat_proj.weight)\n",
    "\n",
    "    def forward(self, users, items, user_features, item_features):\n",
    "        # User latent + side\n",
    "        u_id = self.user_emb(users)\n",
    "        u_feat = self.user_feat_proj(user_features[users])\n",
    "        u = u_id + u_feat\n",
    "\n",
    "        # Item latent + side\n",
    "        i_id = self.item_emb(items)\n",
    "        i_feat = self.item_feat_proj(item_features[items])\n",
    "        i = i_id + i_feat\n",
    "\n",
    "        # Dot product + bias\n",
    "        dot = (u * i).sum(1, keepdim=True)\n",
    "        bias = self.user_bias(users) + self.item_bias(items) + self.global_bias\n",
    "\n",
    "        return (dot + bias).squeeze(1)  "
   ]
  },
  {
   "cell_type": "code",
   "execution_count": 16,
   "metadata": {},
   "outputs": [],
   "source": [
    "def train(model, dataloader, optimizer, loss_fn, \n",
    "          user_features_tensor, item_features_tensor, \n",
    "          device='cpu', epochs=10):\n",
    "    \n",
    "    model.to(device)\n",
    "    user_features_tensor = user_features_tensor.to(device)\n",
    "    item_features_tensor = item_features_tensor.to(device)\n",
    "\n",
    "    for epoch in range(epochs):\n",
    "        model.train()\n",
    "        total_loss = 0\n",
    "\n",
    "        for user, item, rating in dataloader:\n",
    "            user = user.to(device)\n",
    "            item = item.to(device)\n",
    "            rating = rating.to(device).unsqueeze(1)\n",
    "\n",
    "            # Forward pass with side info\n",
    "            preds = model(user, item, user_features_tensor, item_features_tensor)\n",
    "            loss = loss_fn(preds, rating)\n",
    "\n",
    "            optimizer.zero_grad()\n",
    "            loss.backward()\n",
    "            optimizer.step()\n",
    "\n",
    "            total_loss += loss.item()\n",
    "\n",
    "        avg_loss = total_loss / len(dataloader)\n",
    "        print(f\"Epoch {epoch+1} | Training Loss: {avg_loss:.4f}\")"
   ]
  },
  {
   "cell_type": "code",
   "execution_count": 17,
   "metadata": {},
   "outputs": [
    {
     "data": {
      "text/plain": [
       "MF(\n",
       "  (user_emb): Embedding(269461, 64)\n",
       "  (item_emb): Embedding(8069, 64)\n",
       "  (user_feat_proj): Linear(in_features=3, out_features=64, bias=True)\n",
       "  (item_feat_proj): Linear(in_features=386, out_features=64, bias=True)\n",
       "  (user_bias): Embedding(269461, 1)\n",
       "  (item_bias): Embedding(8069, 1)\n",
       ")"
      ]
     },
     "execution_count": 17,
     "metadata": {},
     "output_type": "execute_result"
    }
   ],
   "source": [
    "n_users = review_df['user_id'].nunique()\n",
    "n_items = review_df['business_id'].nunique()\n",
    "model = MF(n_users, n_items, user_feat_dim=3, item_feat_dim=386)\n",
    "### Loaded Trained Model using MF model \n",
    "model.load_state_dict(torch.load('MF_model.pth'))\n",
    "model"
   ]
  },
  {
   "cell_type": "code",
   "execution_count": 18,
   "metadata": {},
   "outputs": [],
   "source": [
    "loss_fn = nn.MSELoss()\n",
    "optimizer = optim.Adam(model.parameters(), lr=0.001)\n",
    "\n",
    "device = 'cuda' if torch.cuda.is_available() else 'cpu'\n",
    "### Train the model, takes about 20 minutes to run \n",
    "### This would give MF model \n",
    "# train(model, train_loader, optimizer, loss_fn, user_features_tensor, item_features_tensor, device=device, epochs=10)"
   ]
  },
  {
   "cell_type": "code",
   "execution_count": 19,
   "metadata": {},
   "outputs": [],
   "source": [
    "torch.save(model.state_dict(), 'MF_model.pth')"
   ]
  },
  {
   "cell_type": "markdown",
   "metadata": {},
   "source": [
    "#### Evaluation "
   ]
  },
  {
   "cell_type": "code",
   "execution_count": 20,
   "metadata": {},
   "outputs": [],
   "source": [
    "@torch.no_grad()\n",
    "def evaluate(model, dataloader, device, user_features_tensor, item_features_tensor, k=10):\n",
    "    model.eval()\n",
    "    preds, actuals = [], []\n",
    "    user_item_scores = defaultdict(list)\n",
    "\n",
    "    user_features_tensor = user_features_tensor.to(device)\n",
    "    item_features_tensor = item_features_tensor.to(device)\n",
    "\n",
    "    for users, items, ratings in dataloader:\n",
    "        users = users.to(device)\n",
    "        items = items.to(device)\n",
    "        ratings = ratings.to(device)\n",
    "\n",
    "        raw_outputs = model(users, items, user_features_tensor, item_features_tensor)\n",
    "        outputs = torch.clamp(raw_outputs, 1.0, 5.0)\n",
    "\n",
    "        outputs = outputs.cpu().numpy()\n",
    "        users = users.cpu().numpy()\n",
    "        items = items.cpu().numpy()\n",
    "        ratings = ratings.cpu().numpy()\n",
    "\n",
    "        preds.extend(outputs)\n",
    "        actuals.extend(ratings)\n",
    "\n",
    "        for u, i, r, s in zip(users, items, ratings, outputs):\n",
    "            user_item_scores[u].append((i, s, r))\n",
    "\n",
    "    rmse = np.sqrt(mean_squared_error(actuals, preds))\n",
    "    print(f\"RMSE: {rmse:.4f}\")\n",
    "\n",
    "    return rmse, preds"
   ]
  },
  {
   "cell_type": "code",
   "execution_count": 21,
   "metadata": {},
   "outputs": [
    {
     "name": "stdout",
     "output_type": "stream",
     "text": [
      "RMSE: 1.5114\n"
     ]
    }
   ],
   "source": [
    "rmse, preds = evaluate(model, test_loader, device, user_features_tensor, item_features_tensor,  k=10)"
   ]
  },
  {
   "cell_type": "code",
   "execution_count": 22,
   "metadata": {},
   "outputs": [
    {
     "data": {
      "text/html": [
       "<div>\n",
       "<style scoped>\n",
       "    .dataframe tbody tr th:only-of-type {\n",
       "        vertical-align: middle;\n",
       "    }\n",
       "\n",
       "    .dataframe tbody tr th {\n",
       "        vertical-align: top;\n",
       "    }\n",
       "\n",
       "    .dataframe thead th {\n",
       "        text-align: right;\n",
       "    }\n",
       "</style>\n",
       "<table border=\"1\" class=\"dataframe\">\n",
       "  <thead>\n",
       "    <tr style=\"text-align: right;\">\n",
       "      <th></th>\n",
       "      <th>review_id</th>\n",
       "      <th>user_id</th>\n",
       "      <th>business_id</th>\n",
       "      <th>stars</th>\n",
       "      <th>useful</th>\n",
       "      <th>funny</th>\n",
       "      <th>cool</th>\n",
       "      <th>text</th>\n",
       "      <th>date</th>\n",
       "      <th>text_length</th>\n",
       "      <th>processed_review</th>\n",
       "      <th>sum_votes</th>\n",
       "      <th>review_age_days</th>\n",
       "      <th>review_weight</th>\n",
       "      <th>weighted_stars</th>\n",
       "      <th>mf_model_preds</th>\n",
       "    </tr>\n",
       "  </thead>\n",
       "  <tbody>\n",
       "    <tr>\n",
       "      <th>42877</th>\n",
       "      <td>HgEofz6qEQqKYPT7YLA34w</td>\n",
       "      <td>233982</td>\n",
       "      <td>6005</td>\n",
       "      <td>1.0</td>\n",
       "      <td>0</td>\n",
       "      <td>0</td>\n",
       "      <td>0</td>\n",
       "      <td>How does a delivery person from here get lost ...</td>\n",
       "      <td>2021-01-02 00:19:00</td>\n",
       "      <td>63</td>\n",
       "      <td>delivery person get lost not heard google map ...</td>\n",
       "      <td>0</td>\n",
       "      <td>1459</td>\n",
       "      <td>0.811859</td>\n",
       "      <td>0.811859</td>\n",
       "      <td>3.961690</td>\n",
       "    </tr>\n",
       "    <tr>\n",
       "      <th>43178</th>\n",
       "      <td>Kxo5d6EOnOE-vERwQf2a1w</td>\n",
       "      <td>16110</td>\n",
       "      <td>3640</td>\n",
       "      <td>5.0</td>\n",
       "      <td>0</td>\n",
       "      <td>0</td>\n",
       "      <td>0</td>\n",
       "      <td>The service is always good, the employees are ...</td>\n",
       "      <td>2021-01-26 18:01:45</td>\n",
       "      <td>20</td>\n",
       "      <td>service always good employee nice vegan africa...</td>\n",
       "      <td>0</td>\n",
       "      <td>1435</td>\n",
       "      <td>0.814647</td>\n",
       "      <td>4.073237</td>\n",
       "      <td>3.897458</td>\n",
       "    </tr>\n",
       "  </tbody>\n",
       "</table>\n",
       "</div>"
      ],
      "text/plain": [
       "                    review_id  user_id  business_id  stars  useful  funny  \\\n",
       "42877  HgEofz6qEQqKYPT7YLA34w   233982         6005    1.0       0      0   \n",
       "43178  Kxo5d6EOnOE-vERwQf2a1w    16110         3640    5.0       0      0   \n",
       "\n",
       "       cool                                               text  \\\n",
       "42877     0  How does a delivery person from here get lost ...   \n",
       "43178     0  The service is always good, the employees are ...   \n",
       "\n",
       "                      date  text_length  \\\n",
       "42877  2021-01-02 00:19:00           63   \n",
       "43178  2021-01-26 18:01:45           20   \n",
       "\n",
       "                                        processed_review  sum_votes  \\\n",
       "42877  delivery person get lost not heard google map ...          0   \n",
       "43178  service always good employee nice vegan africa...          0   \n",
       "\n",
       "       review_age_days  review_weight  weighted_stars  mf_model_preds  \n",
       "42877             1459       0.811859        0.811859        3.961690  \n",
       "43178             1435       0.814647        4.073237        3.897458  "
      ]
     },
     "execution_count": 22,
     "metadata": {},
     "output_type": "execute_result"
    }
   ],
   "source": [
    "test_data = test_df.copy()\n",
    "test_data.loc[:, 'mf_model_preds'] = preds \n",
    "test_data.head(2)"
   ]
  },
  {
   "cell_type": "code",
   "execution_count": 23,
   "metadata": {},
   "outputs": [],
   "source": [
    "def ndcg_at_k(relevances, k):\n",
    "    relevances = np.asarray(relevances, dtype=np.float32)[:k]\n",
    "    if relevances.size == 0:\n",
    "        return 0.0\n",
    "    dcg = np.sum((2 ** relevances - 1) / np.log2(np.arange(2, relevances.size + 2)))\n",
    "    ideal_relevances = np.sort(relevances)[::-1]\n",
    "    idcg = np.sum((2 ** ideal_relevances - 1) / np.log2(np.arange(2, ideal_relevances.size + 2)))\n",
    "    return dcg / idcg if idcg > 0 else 0.0"
   ]
  },
  {
   "cell_type": "code",
   "execution_count": 24,
   "metadata": {},
   "outputs": [],
   "source": [
    "def evaluate_ndcg_per_user(test_df, score_col='mf_model_preds', label_col='label_binary', k=10):\n",
    "    ndcgs = []\n",
    "    grouped = test_df.groupby(\"user_id\")\n",
    "\n",
    "    for user, group in grouped:\n",
    "        group_sorted = group.sort_values(by=score_col, ascending=False)\n",
    "        relevance = group_sorted[label_col].values\n",
    "        if len(relevance) == 0:\n",
    "            continue\n",
    "        ndcg = ndcg_at_k(relevance, k)\n",
    "        ndcgs.append(ndcg)\n",
    "\n",
    "    return np.mean(ndcgs)"
   ]
  },
  {
   "cell_type": "code",
   "execution_count": 25,
   "metadata": {},
   "outputs": [
    {
     "name": "stdout",
     "output_type": "stream",
     "text": [
      "Accuracy rate is: 0.3668\n",
      "NDCG@10 is: 0.6604\n"
     ]
    }
   ],
   "source": [
    "test_data['mf_model_preds_binary'] = (test_data['mf_model_preds'] >= 4).astype(int)\n",
    "true_labels = test_data['stars'].apply(lambda x: 1 if x>=4 else 0).values\n",
    "test_data['label_binary'] = true_labels\n",
    "accuracy = np.mean(test_data['mf_model_preds_binary']==true_labels)\n",
    "ndcg_10 = evaluate_ndcg_per_user(test_data)\n",
    "print(f'Accuracy rate is: {accuracy :.4f}')\n",
    "print(f'NDCG@10 is: {ndcg_10 :.4f}')"
   ]
  },
  {
   "cell_type": "markdown",
   "metadata": {},
   "source": [
    "#### Further Analysis\n",
    "- look for individual user's past restauratns and recommended restaurants"
   ]
  },
  {
   "cell_type": "code",
   "execution_count": 26,
   "metadata": {},
   "outputs": [],
   "source": [
    "@torch.no_grad()\n",
    "def predict_for_user(model, user_idx, all_item_indices, user_features_tensor, item_features_tensor, device='cpu', top_k=10):\n",
    "    model.eval()\n",
    "    \n",
    "    user_tensor = torch.tensor([user_idx] * len(all_item_indices), dtype=torch.long).to(device)\n",
    "    item_tensor = torch.tensor(all_item_indices, dtype=torch.long).to(device)\n",
    "\n",
    "    user_features_tensor = user_features_tensor.to(device)\n",
    "    item_features_tensor = item_features_tensor.to(device)\n",
    "\n",
    "    # Predict scores for all items for this user\n",
    "    scores = model(user_tensor, item_tensor, user_features_tensor, item_features_tensor)\n",
    "    scores = torch.clamp(scores, 1, 5)\n",
    "    scores = scores.cpu().numpy()\n",
    "\n",
    "    # Rank items by score\n",
    "    ranked_indices = np.argsort(scores)[::-1][:top_k]\n",
    "    top_items = [(all_item_indices[i], scores[i]) for i in ranked_indices]\n",
    "\n",
    "    return top_items"
   ]
  },
  {
   "cell_type": "code",
   "execution_count": 27,
   "metadata": {},
   "outputs": [
    {
     "name": "stdout",
     "output_type": "stream",
     "text": [
      "User:  _BcWyKQL16ndpBdggh2kNA\n",
      "Restaurant ID: rKe7iEiqe8TVqvwZLdlhRA → Predicted Score: 4.2842\n",
      "Restaurant ID: OAWa1WML2V1ZLJGD6V3nBQ → Predicted Score: 4.2784\n",
      "Restaurant ID: UeC_Vq0rxvrIqVRQxLuLPw → Predicted Score: 4.2362\n",
      "Restaurant ID: OTwwIvLkrS0zc8f1lNRstw → Predicted Score: 4.2146\n",
      "Restaurant ID: luv3Y2AjoOhxYRY_u5tRJA → Predicted Score: 4.2090\n",
      "Restaurant ID: m7aQVu6auR4N57gqYiwLwQ → Predicted Score: 4.2058\n",
      "Restaurant ID: TJhQ9wS_nuLE383nfWXnqw → Predicted Score: 4.2021\n",
      "Restaurant ID: mFXzS0ogBF8fc_mMMGSLDA → Predicted Score: 4.1937\n",
      "Restaurant ID: qWretbXJ-inUy1ywE7r3xQ → Predicted Score: 4.1910\n",
      "Restaurant ID: xK_lHWT8n5y_Cy3q-hWA_g → Predicted Score: 4.1910\n"
     ]
    }
   ],
   "source": [
    "user_idx = 156637\n",
    "\n",
    "top_recs = predict_for_user(\n",
    "    model=model,\n",
    "    user_idx=user_idx,  \n",
    "    all_item_indices=list(range(item_features_tensor.shape[0])),\n",
    "    user_features_tensor=user_features_tensor,\n",
    "    item_features_tensor=item_features_tensor,\n",
    "    device=device,\n",
    "    top_k=10\n",
    ")\n",
    "\n",
    "item_indices = [item_idx for item_idx, _ in top_recs]\n",
    "original_business_ids = item_le.inverse_transform(item_indices)\n",
    "original_user_id = user_le.inverse_transform([user_idx])[0]\n",
    "\n",
    "print(\"User: \", original_user_id)\n",
    "decoded_recs = list(zip(original_business_ids, [score for _, score in top_recs]))\n",
    "\n",
    "for business_id, score in decoded_recs:\n",
    "    print(f\"Restaurant ID: {business_id} → Predicted Score: {score:.4f}\")"
   ]
  },
  {
   "cell_type": "code",
   "execution_count": 28,
   "metadata": {},
   "outputs": [
    {
     "data": {
      "text/plain": [
       "['rKe7iEiqe8TVqvwZLdlhRA',\n",
       " 'OAWa1WML2V1ZLJGD6V3nBQ',\n",
       " 'UeC_Vq0rxvrIqVRQxLuLPw',\n",
       " 'OTwwIvLkrS0zc8f1lNRstw',\n",
       " 'luv3Y2AjoOhxYRY_u5tRJA',\n",
       " 'm7aQVu6auR4N57gqYiwLwQ',\n",
       " 'TJhQ9wS_nuLE383nfWXnqw',\n",
       " 'mFXzS0ogBF8fc_mMMGSLDA',\n",
       " 'qWretbXJ-inUy1ywE7r3xQ',\n",
       " 'xK_lHWT8n5y_Cy3q-hWA_g']"
      ]
     },
     "execution_count": 28,
     "metadata": {},
     "output_type": "execute_result"
    }
   ],
   "source": [
    "recommended_business_ids = [bid for bid, _ in decoded_recs]\n",
    "recommended_business_ids"
   ]
  },
  {
   "cell_type": "code",
   "execution_count": 29,
   "metadata": {},
   "outputs": [],
   "source": [
    "user_visited_rest_ids = review_df.loc[review_df['user_id']==user_idx]['business_id']\n",
    "user_visited_rest_ids_original = item_le.inverse_transform(user_visited_rest_ids)"
   ]
  },
  {
   "cell_type": "code",
   "execution_count": 30,
   "metadata": {},
   "outputs": [
    {
     "data": {
      "text/html": [
       "<div>\n",
       "<style scoped>\n",
       "    .dataframe tbody tr th:only-of-type {\n",
       "        vertical-align: middle;\n",
       "    }\n",
       "\n",
       "    .dataframe tbody tr th {\n",
       "        vertical-align: top;\n",
       "    }\n",
       "\n",
       "    .dataframe thead th {\n",
       "        text-align: right;\n",
       "    }\n",
       "</style>\n",
       "<table border=\"1\" class=\"dataframe\">\n",
       "  <thead>\n",
       "    <tr style=\"text-align: right;\">\n",
       "      <th></th>\n",
       "      <th>name</th>\n",
       "      <th>city</th>\n",
       "      <th>categories</th>\n",
       "    </tr>\n",
       "  </thead>\n",
       "  <tbody>\n",
       "    <tr>\n",
       "      <th>8</th>\n",
       "      <td>World Cafe Live</td>\n",
       "      <td>Philadelphia</td>\n",
       "      <td>Nightlife, Arts &amp; Entertainment, Restaurants, ...</td>\n",
       "    </tr>\n",
       "    <tr>\n",
       "      <th>16</th>\n",
       "      <td>Au Bon Pain</td>\n",
       "      <td>Philadelphia</td>\n",
       "      <td>Bakeries, Restaurants, Food, Cafes</td>\n",
       "    </tr>\n",
       "    <tr>\n",
       "      <th>28</th>\n",
       "      <td>Luberto's Brickoven Pizza</td>\n",
       "      <td>Dublin</td>\n",
       "      <td>Restaurants, Pizza, Italian</td>\n",
       "    </tr>\n",
       "    <tr>\n",
       "      <th>30</th>\n",
       "      <td>Smokey Joe's Tavern</td>\n",
       "      <td>Philadelphia</td>\n",
       "      <td>Bars, Dive Bars, Pizza, Nightlife, Restaurants</td>\n",
       "    </tr>\n",
       "    <tr>\n",
       "      <th>40</th>\n",
       "      <td>Bagel Barrel</td>\n",
       "      <td>Doylestown</td>\n",
       "      <td>Bagels, Restaurants, Food</td>\n",
       "    </tr>\n",
       "    <tr>\n",
       "      <th>...</th>\n",
       "      <td>...</td>\n",
       "      <td>...</td>\n",
       "      <td>...</td>\n",
       "    </tr>\n",
       "    <tr>\n",
       "      <th>8036</th>\n",
       "      <td>Philly Pretzel Factory</td>\n",
       "      <td>Philadelphia</td>\n",
       "      <td>Food, Pretzels, Hot Dogs, Bakeries, Restaurant...</td>\n",
       "    </tr>\n",
       "    <tr>\n",
       "      <th>8037</th>\n",
       "      <td>Bolton's Farm Market</td>\n",
       "      <td>Silverdale</td>\n",
       "      <td>Home &amp; Garden, Specialty Food, Delis, Restaura...</td>\n",
       "    </tr>\n",
       "    <tr>\n",
       "      <th>8045</th>\n",
       "      <td>Lee's Hoagie House</td>\n",
       "      <td>Norristown</td>\n",
       "      <td>Sandwiches, Cheesesteaks, Restaurants, Delis, ...</td>\n",
       "    </tr>\n",
       "    <tr>\n",
       "      <th>8053</th>\n",
       "      <td>Panera Bread</td>\n",
       "      <td>Wayne</td>\n",
       "      <td>Sandwiches, Food, Breakfast &amp; Brunch, Salad, S...</td>\n",
       "    </tr>\n",
       "    <tr>\n",
       "      <th>8066</th>\n",
       "      <td>P &amp; S Ravioli</td>\n",
       "      <td>Philadelphia</td>\n",
       "      <td>Food, Do-It-Yourself Food, Restaurants, Italian</td>\n",
       "    </tr>\n",
       "  </tbody>\n",
       "</table>\n",
       "<p>686 rows × 3 columns</p>\n",
       "</div>"
      ],
      "text/plain": [
       "                           name          city  \\\n",
       "8               World Cafe Live  Philadelphia   \n",
       "16                  Au Bon Pain  Philadelphia   \n",
       "28    Luberto's Brickoven Pizza        Dublin   \n",
       "30          Smokey Joe's Tavern  Philadelphia   \n",
       "40                 Bagel Barrel    Doylestown   \n",
       "...                         ...           ...   \n",
       "8036     Philly Pretzel Factory  Philadelphia   \n",
       "8037       Bolton's Farm Market    Silverdale   \n",
       "8045         Lee's Hoagie House    Norristown   \n",
       "8053               Panera Bread         Wayne   \n",
       "8066              P & S Ravioli  Philadelphia   \n",
       "\n",
       "                                             categories  \n",
       "8     Nightlife, Arts & Entertainment, Restaurants, ...  \n",
       "16                   Bakeries, Restaurants, Food, Cafes  \n",
       "28                          Restaurants, Pizza, Italian  \n",
       "30       Bars, Dive Bars, Pizza, Nightlife, Restaurants  \n",
       "40                            Bagels, Restaurants, Food  \n",
       "...                                                 ...  \n",
       "8036  Food, Pretzels, Hot Dogs, Bakeries, Restaurant...  \n",
       "8037  Home & Garden, Specialty Food, Delis, Restaura...  \n",
       "8045  Sandwiches, Cheesesteaks, Restaurants, Delis, ...  \n",
       "8053  Sandwiches, Food, Breakfast & Brunch, Salad, S...  \n",
       "8066    Food, Do-It-Yourself Food, Restaurants, Italian  \n",
       "\n",
       "[686 rows x 3 columns]"
      ]
     },
     "execution_count": 30,
     "metadata": {},
     "output_type": "execute_result"
    }
   ],
   "source": [
    "restaurant_df.loc[restaurant_df['business_id'].isin(user_visited_rest_ids_original)][['name', 'city', 'categories']]"
   ]
  },
  {
   "cell_type": "code",
   "execution_count": 31,
   "metadata": {},
   "outputs": [
    {
     "data": {
      "text/html": [
       "<div>\n",
       "<style scoped>\n",
       "    .dataframe tbody tr th:only-of-type {\n",
       "        vertical-align: middle;\n",
       "    }\n",
       "\n",
       "    .dataframe tbody tr th {\n",
       "        vertical-align: top;\n",
       "    }\n",
       "\n",
       "    .dataframe thead th {\n",
       "        text-align: right;\n",
       "    }\n",
       "</style>\n",
       "<table border=\"1\" class=\"dataframe\">\n",
       "  <thead>\n",
       "    <tr style=\"text-align: right;\">\n",
       "      <th></th>\n",
       "      <th>name</th>\n",
       "      <th>city</th>\n",
       "      <th>categories</th>\n",
       "    </tr>\n",
       "  </thead>\n",
       "  <tbody>\n",
       "    <tr>\n",
       "      <th>3169</th>\n",
       "      <td>Middle Child</td>\n",
       "      <td>Philadelphia</td>\n",
       "      <td>Coffee &amp; Tea, Sandwiches, Delis, Diners, Food,...</td>\n",
       "    </tr>\n",
       "    <tr>\n",
       "      <th>3210</th>\n",
       "      <td>Dasiwa</td>\n",
       "      <td>Philadelphia</td>\n",
       "      <td>Sushi Bars, Restaurants</td>\n",
       "    </tr>\n",
       "    <tr>\n",
       "      <th>3794</th>\n",
       "      <td>Major Wing Lee Grocery Market</td>\n",
       "      <td>Philadelphia</td>\n",
       "      <td>Restaurants, Delis, Food, Grocery, Sandwiches</td>\n",
       "    </tr>\n",
       "    <tr>\n",
       "      <th>3969</th>\n",
       "      <td>Wing Hut</td>\n",
       "      <td>Woodlyn</td>\n",
       "      <td>Sandwiches, Restaurants, Cajun/Creole, Salad, ...</td>\n",
       "    </tr>\n",
       "    <tr>\n",
       "      <th>6316</th>\n",
       "      <td>The Couch Tomato Cafe</td>\n",
       "      <td>Philadelphia</td>\n",
       "      <td>Italian, Restaurants, Sandwiches, Food Deliver...</td>\n",
       "    </tr>\n",
       "    <tr>\n",
       "      <th>6340</th>\n",
       "      <td>Hong Kong King Buffet</td>\n",
       "      <td>Feasterville Trevose</td>\n",
       "      <td>Restaurants, Chinese</td>\n",
       "    </tr>\n",
       "    <tr>\n",
       "      <th>6362</th>\n",
       "      <td>Tasty Table Catering</td>\n",
       "      <td>Berwyn</td>\n",
       "      <td>Food Delivery Services, Event Planning &amp; Servi...</td>\n",
       "    </tr>\n",
       "    <tr>\n",
       "      <th>6928</th>\n",
       "      <td>Baan Thai Sabaidee</td>\n",
       "      <td>West Chester</td>\n",
       "      <td>Restaurants, Thai</td>\n",
       "    </tr>\n",
       "    <tr>\n",
       "      <th>7029</th>\n",
       "      <td>Burger King</td>\n",
       "      <td>Morrisville</td>\n",
       "      <td>Fast Food, Restaurants, Burgers</td>\n",
       "    </tr>\n",
       "    <tr>\n",
       "      <th>7736</th>\n",
       "      <td>China Palace</td>\n",
       "      <td>Norristown</td>\n",
       "      <td>Restaurants, Chinese</td>\n",
       "    </tr>\n",
       "  </tbody>\n",
       "</table>\n",
       "</div>"
      ],
      "text/plain": [
       "                               name                  city  \\\n",
       "3169                   Middle Child          Philadelphia   \n",
       "3210                         Dasiwa          Philadelphia   \n",
       "3794  Major Wing Lee Grocery Market          Philadelphia   \n",
       "3969                       Wing Hut               Woodlyn   \n",
       "6316          The Couch Tomato Cafe          Philadelphia   \n",
       "6340          Hong Kong King Buffet  Feasterville Trevose   \n",
       "6362           Tasty Table Catering                Berwyn   \n",
       "6928             Baan Thai Sabaidee          West Chester   \n",
       "7029                    Burger King           Morrisville   \n",
       "7736                   China Palace            Norristown   \n",
       "\n",
       "                                             categories  \n",
       "3169  Coffee & Tea, Sandwiches, Delis, Diners, Food,...  \n",
       "3210                            Sushi Bars, Restaurants  \n",
       "3794      Restaurants, Delis, Food, Grocery, Sandwiches  \n",
       "3969  Sandwiches, Restaurants, Cajun/Creole, Salad, ...  \n",
       "6316  Italian, Restaurants, Sandwiches, Food Deliver...  \n",
       "6340                               Restaurants, Chinese  \n",
       "6362  Food Delivery Services, Event Planning & Servi...  \n",
       "6928                                  Restaurants, Thai  \n",
       "7029                    Fast Food, Restaurants, Burgers  \n",
       "7736                               Restaurants, Chinese  "
      ]
     },
     "execution_count": 31,
     "metadata": {},
     "output_type": "execute_result"
    }
   ],
   "source": [
    "restaurant_df.loc[restaurant_df['business_id'].isin(recommended_business_ids)][['name', 'city', 'categories']]"
   ]
  },
  {
   "cell_type": "markdown",
   "metadata": {},
   "source": [
    "#### Hit@10"
   ]
  },
  {
   "cell_type": "code",
   "execution_count": 32,
   "metadata": {},
   "outputs": [],
   "source": [
    "review_df = pd.read_csv('review_final.csv')\n",
    "train_df = review_df[review_df['date'] < '2021-01-01']\n",
    "test_df = review_df[review_df['date'] >= '2021-01-01']"
   ]
  },
  {
   "cell_type": "code",
   "execution_count": 33,
   "metadata": {},
   "outputs": [],
   "source": [
    "@torch.no_grad()\n",
    "def get_mf_recommendation(model, user_idx, all_item_indices, user_features_tensor, item_features_tensor, device='cpu', top_k=10):\n",
    "    model.eval()\n",
    "    \n",
    "    user_idx = user_le.transform([user_idx])[0]\n",
    "    user_tensor = torch.tensor([user_idx] * len(all_item_indices), dtype=torch.long).to(device)\n",
    "    item_tensor = torch.tensor(all_item_indices, dtype=torch.long).to(device)\n",
    "\n",
    "    user_features_tensor = user_features_tensor.to(device)\n",
    "    item_features_tensor = item_features_tensor.to(device)\n",
    "\n",
    "    # Predict scores for all items for this user\n",
    "    scores = model(user_tensor, item_tensor, user_features_tensor, item_features_tensor)\n",
    "    scores = torch.clamp(scores, 1, 5)\n",
    "    scores = scores.cpu().numpy()\n",
    "\n",
    "    # Rank items by score\n",
    "    ranked_indices = np.argsort(scores)[::-1][:top_k]\n",
    "    top_items = [(all_item_indices[i], scores[i]) for i in ranked_indices]\n",
    "    item_indices = [item_idx for item_idx, _ in top_items]\n",
    "    original_business_ids = item_le.inverse_transform(item_indices)\n",
    "    top_recs = pd.DataFrame({\n",
    "        'business_id': original_business_ids,\n",
    "    })\n",
    "    return top_recs\n",
    "\n",
    "all_item_indices=list(range(item_features_tensor.shape[0]))\n",
    "def get_recommendation(user_id, k):\n",
    "    recommendation = get_mf_recommendation(model, user_id, all_item_indices, user_features_tensor, item_features_tensor, device='cpu', top_k=k)\n",
    "    return recommendation"
   ]
  },
  {
   "cell_type": "code",
   "execution_count": 35,
   "metadata": {},
   "outputs": [],
   "source": [
    "import random\n",
    "import matplotlib.pyplot as plt \n",
    "def hits_at_k(user_id, test_df, recommend_func, k=10):\n",
    "    # true_item = test_df.loc[test_df['user_id'] == user_id]['business_id'].iloc[0]\n",
    "    true_items = test_df[(test_df['user_id'] == user_id) &\n",
    "                         (test_df['stars'] >= 3) # Hit rate should consider if the user liked the restaurant\n",
    "                         ]['business_id'].tolist()\n",
    "    recommended = recommend_func(user_id, k)\n",
    "    recommended_items = recommended['business_id'].tolist()\n",
    "    return int(any(item in recommended_items for item in true_items))\n",
    "\n",
    "def get_hit_rate_for_n_users(users, recommend_func):\n",
    "    total_hits = 0\n",
    "    for user in users:\n",
    "        hits = hits_at_k(user, test_df, recommend_func, k=10)\n",
    "        if hits != 0:\n",
    "            total_hits += 1\n",
    "    return total_hits / len(users)\n",
    "\n",
    "def plot_hit_rate_vs_users(test_df, max_users, step, recommend_func):\n",
    "    # Step 1: Get users sorted by interaction count descending\n",
    "    user_interaction_counts = (\n",
    "        test_df.groupby('user_id')\n",
    "        .size()\n",
    "        .sort_values(ascending=False)\n",
    "    )\n",
    "    sorted_users = user_interaction_counts.index.tolist()\n",
    "\n",
    "    # Step 2: Loop with cumulative hit calculation\n",
    "    hit_rates = []\n",
    "    total_hits = 0\n",
    "    evaluated_users = 0\n",
    "\n",
    "    for i in range(step, max_users + 1, step):\n",
    "        current_batch = sorted_users[evaluated_users:i]\n",
    "        hits_in_batch = sum(\n",
    "            hits_at_k(user, test_df, recommend_func, k=10)\n",
    "            for user in current_batch\n",
    "        )\n",
    "        total_hits += hits_in_batch\n",
    "        evaluated_users = i\n",
    "        hit_rate = total_hits / evaluated_users\n",
    "        hit_rates.append(hit_rate)\n",
    "\n",
    "    # Step 3: Plot\n",
    "    n_users_range = list(range(step, max_users + 1, step))\n",
    "    plt.figure(figsize=(10, 6))\n",
    "    plt.plot(n_users_range, hit_rates, marker='o', linestyle='-', color='b')\n",
    "    plt.xlabel(\"Number of Top Users (by Interactions)\")\n",
    "    plt.ylabel(\"Hit Rate@10\")\n",
    "    plt.title(\"Hit Rate vs. Number of Included Users\")\n",
    "    plt.grid(True)\n",
    "    plt.show()\n"
   ]
  },
  {
   "cell_type": "code",
   "execution_count": 36,
   "metadata": {},
   "outputs": [
    {
     "data": {
      "image/png": "[encoded data removed]",
      "text/plain": [
       "<Figure size 1000x600 with 1 Axes>"
      ]
     },
     "metadata": {},
     "output_type": "display_data"
    }
   ],
   "source": [
    "### SORTED BY FREQUENTLY-INTERACTED USERS \n",
    "plot_hit_rate_vs_users(test_df, max_users=100, step=10, recommend_func=get_recommendation)"
   ]
  },
  {
   "cell_type": "code",
   "execution_count": 38,
   "metadata": {},
   "outputs": [],
   "source": [
    "def plot_hit_rate_vs_users_random(test_df, max_users, step, recommend_func):\n",
    "    # Step 1: Get unique users and shuffle\n",
    "    unique_users = test_df['user_id'].unique().tolist()\n",
    "    random.shuffle(unique_users)\n",
    "\n",
    "    # Ensure we don't exceed the available number of users\n",
    "    max_users = min(max_users, len(unique_users))\n",
    "\n",
    "    # Step 2: Loop with cumulative hit calculation\n",
    "    hit_rates = []\n",
    "    total_hits = 0\n",
    "    evaluated_users = 0\n",
    "\n",
    "    for i in range(step, max_users + 1, step):\n",
    "        current_batch = unique_users[evaluated_users:i]\n",
    "        hits_in_batch = sum(\n",
    "            hits_at_k(user, test_df, recommend_func, k=10)\n",
    "            for user in current_batch\n",
    "        )\n",
    "        total_hits += hits_in_batch\n",
    "        evaluated_users = i\n",
    "        hit_rate = total_hits / evaluated_users\n",
    "        hit_rates.append(hit_rate)\n",
    "\n",
    "    # Step 3: Plot\n",
    "    n_users_range = list(range(step, max_users + 1, step))\n",
    "    plt.figure(figsize=(10, 6))\n",
    "    plt.plot(n_users_range, hit_rates, marker='o', linestyle='-', color='g')\n",
    "    plt.xlabel(\"Number of Random Users\")\n",
    "    plt.ylabel(\"Hit Rate@10\")\n",
    "    plt.title(\"Hit Rate vs. Number of Randomly Selected Users\")\n",
    "    plt.grid(True)\n",
    "    plt.show()"
   ]
  },
  {
   "cell_type": "code",
   "execution_count": 41,
   "metadata": {},
   "outputs": [
    {
     "data": {
      "image/png": "[encoded data removed]",
      "text/plain": [
       "<Figure size 1000x600 with 1 Axes>"
      ]
     },
     "metadata": {},
     "output_type": "display_data"
    }
   ],
   "source": [
    "### RANDOMLY PICKED (TEST SET)\n",
    "random.seed(42)\n",
    "plot_hit_rate_vs_users_random(test_df, max_users=100, step=10, recommend_func=get_recommendation)"
   ]
  },
  {
   "cell_type": "code",
   "execution_count": 42,
   "metadata": {},
   "outputs": [
    {
     "data": {
      "image/png": "[encoded data removed]",
      "text/plain": [
       "<Figure size 1000x600 with 1 Axes>"
      ]
     },
     "metadata": {},
     "output_type": "display_data"
    }
   ],
   "source": [
    "### RANDOMLY PICKED (TRAIN SET)\n",
    "plot_hit_rate_vs_users_random(train_df, max_users=100, step=10, recommend_func=get_recommendation)"
   ]
  }
 ],
 "metadata": {
  "kernelspec": {
   "display_name": ".venv",
   "language": "python",
   "name": "python3"
  },
  "language_info": {
   "codemirror_mode": {
    "name": "ipython",
    "version": 3
   },
   "file_extension": ".py",
   "mimetype": "text/x-python",
   "name": "python",
   "nbconvert_exporter": "python",
   "pygments_lexer": "ipython3",
   "version": "3.12.9"
  }
 },
 "nbformat": 4,
 "nbformat_minor": 2
}
