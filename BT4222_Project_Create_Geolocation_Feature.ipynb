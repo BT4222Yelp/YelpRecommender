{
 "cells": [
  {
   "cell_type": "markdown",
   "metadata": {},
   "source": [
    "## This code creates a new user feature:\n",
    "### Average geolocation of all reviewed restaurants by user (avg_reviewed_restaurant_latitude, avg_reviewed_restaurant_longitude)"
   ]
  },
  {
   "cell_type": "code",
   "execution_count": null,
   "metadata": {},
   "outputs": [],
   "source": [
    "import pandas as pd\n",
    "import msgspec\n",
    "pd.set_option('display.max_columns', 500)\n",
    "pd.set_option('display.width', 200)"
   ]
  },
  {
   "cell_type": "code",
   "execution_count": 9,
   "metadata": {},
   "outputs": [
    {
     "name": "stdout",
     "output_type": "stream",
     "text": [
      "                  user_id    name  review_count        yelping_since  useful  funny   cool                                              elite                                            friends  fans  average_stars  compliment_hot  compliment_more  compliment_profile  compliment_cute  compliment_list  compliment_note  compliment_plain  compliment_cool  compliment_funny  compliment_writer  compliment_photos\n",
      "0  qVc8ODYU5SZjKXVBgXdI7w  Walker           585  2007-01-25 16:47:26    7217   1259   5994                                               2007  NSCy54eWehBJyZdG2iE84w, pe42u7DcCH2QmI81NX-8qA...   267           3.91             250               65                  55               56               18              232               844              467               467                239                180\n",
      "1  j14WgRoU_-2ZE1aw1dXrJg  Daniel          4333  2009-01-25 04:35:42   43091  13066  27281  2009,2010,2011,2012,2013,2014,2015,2016,2017,2...  ueRPE0CX75ePGMqOFVj6IQ, 52oH4DrRvzzl8wh5UXyU0A...  3138           3.74            1145              264                 184              157              251             1847              7054             3131              3131               1521               1946\n",
      "2  2WnXYQFK0hXEoTxPtV2zvg   Steph           665  2008-07-25 10:41:00    2086   1010   1003                           2009,2010,2011,2012,2013  LuO3Bn4f3rlhyHIaNfTlnA, j9B4XdHUhDfTKVecyWQgyA...    52           3.32              89               13                  10               17                3               66                96              119               119                 35                 18\n",
      "3  SZDeASXq7o05mMNLshsdIA    Gwen           224  2005-11-29 04:38:33     512    330    299                                     2009,2010,2011  enx1vVPnfdNUdPho6PH_wg, 4wOcvMLtU6a9Lslggq74Vg...    28           4.27              24                4                   1                6                2               12                16               26                26                 10                  9\n",
      "4  hA5lMy-EnncsH4JoR-hFGQ   Karen            79  2007-01-05 19:40:59      29     15      7                                                     PBK4q9KEEBHhFvSXCUirIw, 3FWPpM7KU1gXeOM_ZbYMbA...     1           3.54               1                1                   0                0                0                1                 1                0                 0                  0                  0\n"
     ]
    }
   ],
   "source": [
    "def stream_jsonl(filename):\n",
    "    with open(filename, \"r\", encoding=\"utf-8\") as file:\n",
    "        for i, line in enumerate(file):\n",
    "            yield msgspec.json.decode(line.strip())\n",
    "\n",
    "# Convert streamed data to a Pandas DataFrame\n",
    "user = pd.DataFrame(stream_jsonl(\n",
    "    \"Yelp-JSON/Yelp JSON/yelp_dataset/yelp_academic_dataset_user.json\"))\n"
   ]
  },
  {
   "cell_type": "code",
   "execution_count": 10,
   "metadata": {},
   "outputs": [
    {
     "name": "stdout",
     "output_type": "stream",
     "text": [
      "                  user_id    name  review_count        yelping_since  useful  funny   cool                                              elite                                            friends  fans  average_stars  compliment_hot  compliment_more  compliment_profile  compliment_cute  compliment_list  compliment_note  compliment_plain  compliment_cool  compliment_funny  compliment_writer  compliment_photos\n",
      "0  qVc8ODYU5SZjKXVBgXdI7w  Walker           585  2007-01-25 16:47:26    7217   1259   5994                                               2007  NSCy54eWehBJyZdG2iE84w, pe42u7DcCH2QmI81NX-8qA...   267           3.91             250               65                  55               56               18              232               844              467               467                239                180\n",
      "1  j14WgRoU_-2ZE1aw1dXrJg  Daniel          4333  2009-01-25 04:35:42   43091  13066  27281  2009,2010,2011,2012,2013,2014,2015,2016,2017,2...  ueRPE0CX75ePGMqOFVj6IQ, 52oH4DrRvzzl8wh5UXyU0A...  3138           3.74            1145              264                 184              157              251             1847              7054             3131              3131               1521               1946\n",
      "2  2WnXYQFK0hXEoTxPtV2zvg   Steph           665  2008-07-25 10:41:00    2086   1010   1003                           2009,2010,2011,2012,2013  LuO3Bn4f3rlhyHIaNfTlnA, j9B4XdHUhDfTKVecyWQgyA...    52           3.32              89               13                  10               17                3               66                96              119               119                 35                 18\n",
      "3  SZDeASXq7o05mMNLshsdIA    Gwen           224  2005-11-29 04:38:33     512    330    299                                     2009,2010,2011  enx1vVPnfdNUdPho6PH_wg, 4wOcvMLtU6a9Lslggq74Vg...    28           4.27              24                4                   1                6                2               12                16               26                26                 10                  9\n",
      "4  hA5lMy-EnncsH4JoR-hFGQ   Karen            79  2007-01-05 19:40:59      29     15      7                                                     PBK4q9KEEBHhFvSXCUirIw, 3FWPpM7KU1gXeOM_ZbYMbA...     1           3.54               1                1                   0                0                0                1                 1                0                 0                  0                  0\n"
     ]
    }
   ],
   "source": [
    "print(user.head())"
   ]
  },
  {
   "cell_type": "code",
   "execution_count": 11,
   "metadata": {},
   "outputs": [],
   "source": [
    "reviews = pd.DataFrame(stream_jsonl(\n",
    "    \"Yelp-JSON/Yelp JSON/yelp_dataset/yelp_academic_dataset_review.json\"))"
   ]
  },
  {
   "cell_type": "code",
   "execution_count": 12,
   "metadata": {},
   "outputs": [
    {
     "name": "stdout",
     "output_type": "stream",
     "text": [
      "                review_id                 user_id             business_id  stars  useful  funny  cool                                               text                 date\n",
      "0  KU_O5udG6zpxOg-VcAEodg  mh_-eMZ6K5RLWhZyISBhwA  XQfwVwDr-v0ZS3_CbbE5Xw    3.0       0      0     0  If you decide to eat here, just be aware it is...  2018-07-07 22:09:11\n",
      "1  BiTunyQ73aT9WBnpR9DZGw  OyoGAe7OKpv6SyGZT5g77Q  7ATYjTIgM3jUlt4UM3IypQ    5.0       1      0     1  I've taken a lot of spin classes over the year...  2012-01-03 15:28:18\n",
      "2  saUsX_uimxRlCVr67Z4Jig  8g_iMtfSiwikVnbP2etR0A  YjUWPpI6HXG530lwP-fb2A    3.0       0      0     0  Family diner. Had the buffet. Eclectic assortm...  2014-02-05 20:30:30\n",
      "3  AqPFMleE6RsU23_auESxiA  _7bHUi9Uuf5__HHc_Q8guQ  kxX2SOes4o-D3ZQBkiMRfA    5.0       1      0     1  Wow!  Yummy, different,  delicious.   Our favo...  2015-01-04 00:01:03\n",
      "4  Sx8TMOWLNuJBWer-0pcmoA  bcjbaE6dDog4jkNY91ncLQ  e4Vwtrqf-wpJfwesgvdgxQ    4.0       1      0     1  Cute interior and owner (?) gave us tour of up...  2017-01-14 20:54:15\n"
     ]
    }
   ],
   "source": [
    "print(reviews.head())"
   ]
  },
  {
   "cell_type": "code",
   "execution_count": 13,
   "metadata": {},
   "outputs": [],
   "source": [
    "business = pd.DataFrame(stream_jsonl(\n",
    "    \"Yelp-JSON/Yelp JSON/yelp_dataset/yelp_academic_dataset_business.json\"))"
   ]
  },
  {
   "cell_type": "code",
   "execution_count": 14,
   "metadata": {},
   "outputs": [
    {
     "name": "stdout",
     "output_type": "stream",
     "text": [
      "              business_id                      name                          address           city state postal_code   latitude   longitude  stars  review_count  is_open                                         attributes                                         categories                                              hours\n",
      "0  Pns2l4eNsfO8kk83dixA6A  Abby Rappoport, LAC, CMQ           1616 Chapala St, Ste 2  Santa Barbara    CA       93101  34.426679 -119.711197    5.0             7        0                      {'ByAppointmentOnly': 'True'}  Doctors, Traditional Chinese Medicine, Naturop...                                               None\n",
      "1  mpf3x-BjTdTEA3yCZrAYPw             The UPS Store  87 Grasso Plaza Shopping Center         Affton    MO       63123  38.551126  -90.335695    3.0            15        1             {'BusinessAcceptsCreditCards': 'True'}  Shipping Centers, Local Services, Notaries, Ma...  {'Monday': '0:0-0:0', 'Tuesday': '8:0-18:30', ...\n",
      "2  tUFrWirKiKi_TAnsVWINQQ                    Target             5255 E Broadway Blvd         Tucson    AZ       85711  32.223236 -110.880452    3.5            22        0  {'BikeParking': 'True', 'BusinessAcceptsCredit...  Department Stores, Shopping, Fashion, Home & G...  {'Monday': '8:0-22:0', 'Tuesday': '8:0-22:0', ...\n",
      "3  MTSW4McQd7CbVtyjqoe9mw        St Honore Pastries                      935 Race St   Philadelphia    PA       19107  39.955505  -75.155564    4.0            80        1  {'RestaurantsDelivery': 'False', 'OutdoorSeati...  Restaurants, Food, Bubble Tea, Coffee & Tea, B...  {'Monday': '7:0-20:0', 'Tuesday': '7:0-20:0', ...\n",
      "4  mWMc6_wTdE0EUBKIGXDVfA  Perkiomen Valley Brewery                    101 Walnut St     Green Lane    PA       18054  40.338183  -75.471659    4.5            13        1  {'BusinessAcceptsCreditCards': 'True', 'Wheelc...                          Brewpubs, Breweries, Food  {'Wednesday': '14:0-22:0', 'Thursday': '16:0-2...\n"
     ]
    }
   ],
   "source": [
    "print(business.head())"
   ]
  },
  {
   "cell_type": "code",
   "execution_count": 18,
   "metadata": {},
   "outputs": [
    {
     "name": "stdout",
     "output_type": "stream",
     "text": [
      "                  user_id                                        business_id\n",
      "0  ---1lKK3aKOuomHnwAkAow                           [f19eLfhXqR47Ct8Hz2y_pA]\n",
      "1  ---2PmXbF47D870stH1jqA  [hKameFsaXh9g8WQbv593UA, KP5OncF2jhT7_J1phHPPw...\n",
      "2  ---UgP94gokyCDuB5zUssA  [hKr-RKMVpj3gRkSWcjg3Zw, GBTPC53ZrG1ZBY3DT8Mbc...\n",
      "3  ---fa6ZK37T9NjkGKI4oSg                           [fGQfNfP7squRJjFKk2NWkw]\n",
      "4  ---r61b7EpVPkb4UVme5tA  [fGYnHzFr1z2kv7bPRW6VMA, 5UN1B7XqZohGuULLNlWL1...\n"
     ]
    }
   ],
   "source": [
    "# get unique business_id reviewed by each user\n",
    "reviewed_business = reviews.groupby(\"user_id\")[\"business_id\"].unique().reset_index()\n",
    "print(reviewed_business.head())"
   ]
  },
  {
   "cell_type": "code",
   "execution_count": null,
   "metadata": {},
   "outputs": [
    {
     "data": {
      "text/plain": [
       "1      1152885\n",
       "2       316419\n",
       "3       151420\n",
       "4        88099\n",
       "5        57709\n",
       "        ...   \n",
       "587          1\n",
       "301          1\n",
       "594          1\n",
       "458          1\n",
       "783          1\n",
       "Name: business_id, Length: 527, dtype: int64"
      ]
     },
     "execution_count": 19,
     "metadata": {},
     "output_type": "execute_result"
    }
   ],
   "source": [
    "print(reviewed_business[\"business_id\"].apply(len).value_counts()) # seems like someone reviewed 783 restaurants"
   ]
  },
  {
   "cell_type": "code",
   "execution_count": 21,
   "metadata": {},
   "outputs": [],
   "source": [
    "# get the average latitude and longitude of the businesses reviewed by each user\n",
    "reviewed_business_explode = reviewed_business.explode(\"business_id\")\n",
    "reviewed_business_explode = reviewed_business_explode.merge(\n",
    "    business[[\"business_id\", \"latitude\", \"longitude\"]], on=\"business_id\")\n",
    "reviewed_business_avg = reviewed_business_explode.groupby(\"user_id\")[\n",
    "    [\"latitude\", \"longitude\"]].mean().reset_index()\n",
    "reviewed_business_avg.columns = [\"user_id\", \"avg_reviewed_restaurant_latitude\", \"avg_reviewed_restaurant_longitude\"]\n",
    "\n",
    "# merge the average latitude and longitude with the user DataFrame\n",
    "user = user.merge(reviewed_business_avg, on=\"user_id\", how=\"left\")\n"
   ]
  },
  {
   "cell_type": "code",
   "execution_count": 24,
   "metadata": {},
   "outputs": [
    {
     "name": "stdout",
     "output_type": "stream",
     "text": [
      "<class 'pandas.core.series.Series'>\n",
      "Int64Index: 1987897 entries, 0 to 1987896\n",
      "Series name: avg_reviewed_restaurant_latitude\n",
      "Non-Null Count    Dtype  \n",
      "--------------    -----  \n",
      "1987897 non-null  float64\n",
      "dtypes: float64(1)\n",
      "memory usage: 30.3 MB\n",
      "None\n",
      "<class 'pandas.core.series.Series'>\n",
      "Int64Index: 1987897 entries, 0 to 1987896\n",
      "Series name: avg_reviewed_restaurant_longitude\n",
      "Non-Null Count    Dtype  \n",
      "--------------    -----  \n",
      "1987897 non-null  float64\n",
      "dtypes: float64(1)\n",
      "memory usage: 30.3 MB\n",
      "None\n",
      "0\n",
      "0\n",
      "count    1.987897e+06\n",
      "mean     3.565739e+01\n",
      "std      5.143209e+00\n",
      "min      2.755513e+01\n",
      "25%      2.996787e+01\n",
      "50%      3.617483e+01\n",
      "75%      3.990854e+01\n",
      "max      5.365184e+01\n",
      "Name: avg_reviewed_restaurant_latitude, dtype: float64\n",
      "count    1.987897e+06\n",
      "mean    -9.091178e+01\n",
      "std      1.520943e+01\n",
      "min     -1.200951e+02\n",
      "25%     -9.044838e+01\n",
      "50%     -8.675050e+01\n",
      "75%     -8.228609e+01\n",
      "max     -7.320046e+01\n",
      "Name: avg_reviewed_restaurant_longitude, dtype: float64\n"
     ]
    }
   ],
   "source": [
    "print(user['avg_reviewed_restaurant_latitude'].info())\n",
    "print(user['avg_reviewed_restaurant_longitude'].info())\n",
    "print(user['avg_reviewed_restaurant_latitude'].isnull().sum())\n",
    "print(user['avg_reviewed_restaurant_longitude'].isnull().sum())\n",
    "print(user['avg_reviewed_restaurant_latitude'].describe())\n",
    "print(user['avg_reviewed_restaurant_longitude'].describe())"
   ]
  },
  {
   "cell_type": "code",
   "execution_count": 25,
   "metadata": {},
   "outputs": [],
   "source": [
    "user.to_csv(\"user.csv\", index=False)"
   ]
  },
  {
   "cell_type": "code",
   "execution_count": null,
   "metadata": {},
   "outputs": [],
   "source": []
  }
 ],
 "metadata": {
  "kernelspec": {
   "display_name": "Python 3",
   "language": "python",
   "name": "python3"
  },
  "language_info": {
   "codemirror_mode": {
    "name": "ipython",
    "version": 3
   },
   "file_extension": ".py",
   "mimetype": "text/x-python",
   "name": "python",
   "nbconvert_exporter": "python",
   "pygments_lexer": "ipython3",
   "version": "3.12.1"
  }
 },
 "nbformat": 4,
 "nbformat_minor": 2
}
