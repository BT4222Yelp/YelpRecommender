{
 "cells": [
  {
   "cell_type": "markdown",
   "id": "9ca8bec5-80f1-4ab1-a4a1-2c7d578df0c4",
   "metadata": {},
   "source": [
    "## User Based Collaborative Filtering"
   ]
  },
  {
   "cell_type": "code",
   "execution_count": 2,
   "id": "eea096d0-4daa-4401-a3e7-0e297375f186",
   "metadata": {},
   "outputs": [],
   "source": [
    "import pandas as pd\n",
    "import numpy as np\n",
    "import ast\n",
    "import re\n",
    "import random\n",
    "\n",
    "from sklearn.metrics.pairwise import cosine_similarity\n",
    "from sklearn.feature_extraction.text import TfidfVectorizer\n",
    "\n",
    "import nltk\n",
    "from nltk.corpus import stopwords\n",
    "from nltk.tokenize import word_tokenize\n",
    "from nltk import pos_tag\n",
    "from nltk.stem import WordNetLemmatizer"
   ]
  },
  {
   "cell_type": "code",
   "execution_count": 3,
   "id": "a893c7f1-8b50-454e-86be-33d202a5139c",
   "metadata": {},
   "outputs": [
    {
     "name": "stdout",
     "output_type": "stream",
     "text": [
      "<class 'pandas.core.frame.DataFrame'>\n",
      "RangeIndex: 269461 entries, 0 to 269460\n",
      "Data columns (total 24 columns):\n",
      " #   Column                 Non-Null Count   Dtype  \n",
      "---  ------                 --------------   -----  \n",
      " 0   user_id                269461 non-null  object \n",
      " 1   name                   269459 non-null  object \n",
      " 2   review_count           269461 non-null  int64  \n",
      " 3   yelping_since          269461 non-null  object \n",
      " 4   useful                 269461 non-null  int64  \n",
      " 5   funny                  269461 non-null  int64  \n",
      " 6   cool                   269461 non-null  int64  \n",
      " 7   elite                  21171 non-null   object \n",
      " 8   friends                160194 non-null  object \n",
      " 9   fans                   269461 non-null  int64  \n",
      " 10  average_stars          269461 non-null  float64\n",
      " 11  compliment_hot         269461 non-null  int64  \n",
      " 12  compliment_more        269461 non-null  int64  \n",
      " 13  compliment_profile     269461 non-null  int64  \n",
      " 14  compliment_cute        269461 non-null  int64  \n",
      " 15  compliment_list        269461 non-null  int64  \n",
      " 16  compliment_note        269461 non-null  int64  \n",
      " 17  compliment_plain       269461 non-null  int64  \n",
      " 18  compliment_cool        269461 non-null  int64  \n",
      " 19  compliment_funny       269461 non-null  int64  \n",
      " 20  compliment_writer      269461 non-null  int64  \n",
      " 21  compliment_photos      269461 non-null  int64  \n",
      " 22  ('latitude', 'mean')   269461 non-null  float64\n",
      " 23  ('longitude', 'mean')  269461 non-null  float64\n",
      "dtypes: float64(3), int64(16), object(5)\n",
      "memory usage: 49.3+ MB\n",
      "None\n"
     ]
    },
    {
     "name": "stderr",
     "output_type": "stream",
     "text": [
      "C:\\Users\\woowe\\AppData\\Local\\Temp\\ipykernel_7268\\1034717030.py:1: DtypeWarning: Columns (7) have mixed types. Specify dtype option on import or set low_memory=False.\n",
      "  users = pd.read_csv('PA_restaurant_user_with_loc.csv')\n"
     ]
    },
    {
     "data": {
      "text/html": [
       "<div>\n",
       "<style scoped>\n",
       "    .dataframe tbody tr th:only-of-type {\n",
       "        vertical-align: middle;\n",
       "    }\n",
       "\n",
       "    .dataframe tbody tr th {\n",
       "        vertical-align: top;\n",
       "    }\n",
       "\n",
       "    .dataframe thead th {\n",
       "        text-align: right;\n",
       "    }\n",
       "</style>\n",
       "<table border=\"1\" class=\"dataframe\">\n",
       "  <thead>\n",
       "    <tr style=\"text-align: right;\">\n",
       "      <th></th>\n",
       "      <th>user_id</th>\n",
       "      <th>name</th>\n",
       "      <th>review_count</th>\n",
       "      <th>yelping_since</th>\n",
       "      <th>useful</th>\n",
       "      <th>funny</th>\n",
       "      <th>cool</th>\n",
       "      <th>elite</th>\n",
       "      <th>friends</th>\n",
       "      <th>fans</th>\n",
       "      <th>...</th>\n",
       "      <th>compliment_cute</th>\n",
       "      <th>compliment_list</th>\n",
       "      <th>compliment_note</th>\n",
       "      <th>compliment_plain</th>\n",
       "      <th>compliment_cool</th>\n",
       "      <th>compliment_funny</th>\n",
       "      <th>compliment_writer</th>\n",
       "      <th>compliment_photos</th>\n",
       "      <th>('latitude', 'mean')</th>\n",
       "      <th>('longitude', 'mean')</th>\n",
       "    </tr>\n",
       "  </thead>\n",
       "  <tbody>\n",
       "    <tr>\n",
       "      <th>0</th>\n",
       "      <td>qVc8ODYU5SZjKXVBgXdI7w</td>\n",
       "      <td>Walker</td>\n",
       "      <td>585</td>\n",
       "      <td>2007-01-25 16:47:26</td>\n",
       "      <td>7217</td>\n",
       "      <td>1259</td>\n",
       "      <td>5994</td>\n",
       "      <td>2007</td>\n",
       "      <td>NSCy54eWehBJyZdG2iE84w, pe42u7DcCH2QmI81NX-8qA...</td>\n",
       "      <td>267</td>\n",
       "      <td>...</td>\n",
       "      <td>56</td>\n",
       "      <td>18</td>\n",
       "      <td>232</td>\n",
       "      <td>844</td>\n",
       "      <td>467</td>\n",
       "      <td>467</td>\n",
       "      <td>239</td>\n",
       "      <td>180</td>\n",
       "      <td>39.959457</td>\n",
       "      <td>-75.169912</td>\n",
       "    </tr>\n",
       "    <tr>\n",
       "      <th>1</th>\n",
       "      <td>j14WgRoU_-2ZE1aw1dXrJg</td>\n",
       "      <td>Daniel</td>\n",
       "      <td>4333</td>\n",
       "      <td>2009-01-25 04:35:42</td>\n",
       "      <td>43091</td>\n",
       "      <td>13066</td>\n",
       "      <td>27281</td>\n",
       "      <td>2009,2010,2011,2012,2013,2014,2015,2016,2017,2...</td>\n",
       "      <td>ueRPE0CX75ePGMqOFVj6IQ, 52oH4DrRvzzl8wh5UXyU0A...</td>\n",
       "      <td>3138</td>\n",
       "      <td>...</td>\n",
       "      <td>157</td>\n",
       "      <td>251</td>\n",
       "      <td>1847</td>\n",
       "      <td>7054</td>\n",
       "      <td>3131</td>\n",
       "      <td>3131</td>\n",
       "      <td>1521</td>\n",
       "      <td>1946</td>\n",
       "      <td>39.988870</td>\n",
       "      <td>-75.191895</td>\n",
       "    </tr>\n",
       "    <tr>\n",
       "      <th>2</th>\n",
       "      <td>q_QQ5kBBwlCcbL1s4NVK3g</td>\n",
       "      <td>Jane</td>\n",
       "      <td>1221</td>\n",
       "      <td>2005-03-14 20:26:35</td>\n",
       "      <td>14953</td>\n",
       "      <td>9940</td>\n",
       "      <td>11211</td>\n",
       "      <td>2006,2007,2008,2009,2010,2011,2012,2013,2014</td>\n",
       "      <td>xBDpTUbai0DXrvxCe3X16Q, 7GPNBO496aecrjJfW6UWtg...</td>\n",
       "      <td>1357</td>\n",
       "      <td>...</td>\n",
       "      <td>361</td>\n",
       "      <td>147</td>\n",
       "      <td>1212</td>\n",
       "      <td>5696</td>\n",
       "      <td>2543</td>\n",
       "      <td>2543</td>\n",
       "      <td>815</td>\n",
       "      <td>323</td>\n",
       "      <td>39.953551</td>\n",
       "      <td>-75.163223</td>\n",
       "    </tr>\n",
       "  </tbody>\n",
       "</table>\n",
       "<p>3 rows × 24 columns</p>\n",
       "</div>"
      ],
      "text/plain": [
       "                  user_id    name  review_count        yelping_since  useful  \\\n",
       "0  qVc8ODYU5SZjKXVBgXdI7w  Walker           585  2007-01-25 16:47:26    7217   \n",
       "1  j14WgRoU_-2ZE1aw1dXrJg  Daniel          4333  2009-01-25 04:35:42   43091   \n",
       "2  q_QQ5kBBwlCcbL1s4NVK3g    Jane          1221  2005-03-14 20:26:35   14953   \n",
       "\n",
       "   funny   cool                                              elite  \\\n",
       "0   1259   5994                                               2007   \n",
       "1  13066  27281  2009,2010,2011,2012,2013,2014,2015,2016,2017,2...   \n",
       "2   9940  11211       2006,2007,2008,2009,2010,2011,2012,2013,2014   \n",
       "\n",
       "                                             friends  fans  ...  \\\n",
       "0  NSCy54eWehBJyZdG2iE84w, pe42u7DcCH2QmI81NX-8qA...   267  ...   \n",
       "1  ueRPE0CX75ePGMqOFVj6IQ, 52oH4DrRvzzl8wh5UXyU0A...  3138  ...   \n",
       "2  xBDpTUbai0DXrvxCe3X16Q, 7GPNBO496aecrjJfW6UWtg...  1357  ...   \n",
       "\n",
       "   compliment_cute  compliment_list  compliment_note  compliment_plain  \\\n",
       "0               56               18              232               844   \n",
       "1              157              251             1847              7054   \n",
       "2              361              147             1212              5696   \n",
       "\n",
       "   compliment_cool  compliment_funny  compliment_writer  compliment_photos  \\\n",
       "0              467               467                239                180   \n",
       "1             3131              3131               1521               1946   \n",
       "2             2543              2543                815                323   \n",
       "\n",
       "   ('latitude', 'mean')  ('longitude', 'mean')  \n",
       "0             39.959457             -75.169912  \n",
       "1             39.988870             -75.191895  \n",
       "2             39.953551             -75.163223  \n",
       "\n",
       "[3 rows x 24 columns]"
      ]
     },
     "execution_count": 3,
     "metadata": {},
     "output_type": "execute_result"
    }
   ],
   "source": [
    "users = pd.read_csv('PA_restaurant_user_with_loc.csv')\n",
    "print(users.info())\n",
    "users.head(3)"
   ]
  },
  {
   "cell_type": "code",
   "execution_count": 4,
   "id": "907ec239-cd99-4fa9-9936-da87fdfdd7fe",
   "metadata": {},
   "outputs": [],
   "source": [
    "users['num_friends'] = users['friends'].apply(lambda x: len(x.split(',')) if isinstance(x, str) else 0)\n",
    "users = users.drop(columns=['friends'])"
   ]
  },
  {
   "cell_type": "code",
   "execution_count": 5,
   "id": "ff161705-fe39-4cfe-aa98-2263e9eea3a0",
   "metadata": {},
   "outputs": [],
   "source": [
    "user_features_report = [\"review_count\", \"useful\", \"fans\", \"average_stars\", \"compliment_hot\", \n",
    "                        \"num_friends\", \"('latitude', 'mean')\", \"('longitude', 'mean')\"]"
   ]
  },
  {
   "cell_type": "code",
   "execution_count": 6,
   "id": "c3f4176d-1971-4d68-883b-ca90b8e1f19e",
   "metadata": {},
   "outputs": [
    {
     "name": "stdout",
     "output_type": "stream",
     "text": [
      "  (0, 0)\t3.9039989688611403\n",
      "  (0, 1)\t6.200488665413516\n",
      "  (0, 2)\t7.313601850355668\n",
      "  (0, 3)\t0.23733605501434307\n",
      "  (0, 4)\t2.0558427591288977\n",
      "  (0, 5)\t79.64788522658591\n",
      "  (0, 6)\t-0.5340372536399445\n",
      "  (0, 7)\t0.27579719442581896\n",
      "  (1, 0)\t30.66763981895271\n",
      "  (1, 1)\t37.37521528596912\n",
      "  (1, 2)\t86.80520296461627\n",
      "  (1, 3)\t0.07670392340391693\n",
      "  (1, 4)\t9.521804359253903\n",
      "  (1, 5)\t24.454906663893983\n",
      "  (1, 6)\t-0.2636191936907864\n",
      "  (1, 7)\t0.13259732951843048\n",
      "  (2, 0)\t8.44553460937828\n",
      "  (2, 1)\t12.923120240833544\n",
      "  (2, 2)\t37.49327625458557\n",
      "  (2, 3)\t0.18064236150478083\n",
      "  (2, 4)\t14.259978871958934\n",
      "  (2, 5)\t30.838711412134607\n",
      "  (2, 6)\t-0.5883340052165895\n",
      "  (2, 7)\t0.3193671209368935\n",
      "  (3, 0)\t0.5049880177822748\n",
      "  :\t:\n",
      "  (269457, 7)\t-2.046083756952044\n",
      "  (269458, 0)\t-0.23051225104361436\n",
      "  (269458, 1)\t-0.07025971207238434\n",
      "  (269458, 2)\t-0.07903398994651915\n",
      "  (269458, 3)\t-0.7831504281577765\n",
      "  (269458, 4)\t-0.029621374984232063\n",
      "  (269458, 5)\t-0.323002158433466\n",
      "  (269458, 6)\t-0.6382460585506283\n",
      "  (269458, 7)\t0.3243179243483305\n",
      "  (269459, 0)\t-0.26621614758856044\n",
      "  (269459, 1)\t-0.07112871822225766\n",
      "  (269459, 2)\t-0.07903398994651915\n",
      "  (269459, 3)\t0.32237659527868623\n",
      "  (269459, 4)\t-0.029621374984232063\n",
      "  (269459, 5)\t-0.323002158433466\n",
      "  (269459, 6)\t-0.3985665692844387\n",
      "  (269459, 7)\t-0.7146342484215155\n",
      "  (269460, 0)\t-0.10911900279079773\n",
      "  (269460, 1)\t-0.0650456751731444\n",
      "  (269460, 2)\t-0.07903398994651915\n",
      "  (269460, 3)\t1.1916798957586399\n",
      "  (269460, 4)\t-0.029621374984232063\n",
      "  (269460, 5)\t-0.323002158433466\n",
      "  (269460, 6)\t-0.6651614067533941\n",
      "  (269460, 7)\t0.3333145341750077\n"
     ]
    }
   ],
   "source": [
    "from scipy.sparse import csr_matrix\n",
    "from sklearn.preprocessing import StandardScaler\n",
    "\n",
    "scaler = StandardScaler()\n",
    "profile_matrix = scaler.fit_transform(users[user_features_report])\n",
    "\n",
    "parsed_profile_matrix = csr_matrix(profile_matrix)\n",
    "\n",
    "print(parsed_profile_matrix)"
   ]
  },
  {
   "cell_type": "code",
   "execution_count": null,
   "id": "4d2db9a8-9967-4469-9728-55b2fc32593b",
   "metadata": {},
   "outputs": [],
   "source": []
  },
  {
   "cell_type": "markdown",
   "id": "5fb38305-b833-4f39-b57d-b327ea6e42cd",
   "metadata": {},
   "source": [
    "## Construct user-item interaction data"
   ]
  },
  {
   "cell_type": "code",
   "execution_count": 8,
   "id": "0ed2b997-341b-4d75-bca6-0f13cdbca249",
   "metadata": {},
   "outputs": [
    {
     "name": "stdout",
     "output_type": "stream",
     "text": [
      "<class 'pandas.core.frame.DataFrame'>\n",
      "RangeIndex: 836679 entries, 0 to 836678\n",
      "Data columns (total 15 columns):\n",
      " #   Column            Non-Null Count   Dtype  \n",
      "---  ------            --------------   -----  \n",
      " 0   review_id         836679 non-null  object \n",
      " 1   user_id           836679 non-null  object \n",
      " 2   business_id       836679 non-null  object \n",
      " 3   stars             836679 non-null  float64\n",
      " 4   useful            836679 non-null  int64  \n",
      " 5   funny             836679 non-null  int64  \n",
      " 6   cool              836679 non-null  int64  \n",
      " 7   text              836679 non-null  object \n",
      " 8   date              836679 non-null  object \n",
      " 9   text_length       836679 non-null  int64  \n",
      " 10  processed_review  836588 non-null  object \n",
      " 11  sum_votes         836679 non-null  int64  \n",
      " 12  review_age_days   836679 non-null  int64  \n",
      " 13  review_weight     836679 non-null  float64\n",
      " 14  weighted_stars    836679 non-null  float64\n",
      "dtypes: float64(3), int64(6), object(6)\n",
      "memory usage: 95.8+ MB\n",
      "None\n"
     ]
    },
    {
     "data": {
      "text/html": [
       "<div>\n",
       "<style scoped>\n",
       "    .dataframe tbody tr th:only-of-type {\n",
       "        vertical-align: middle;\n",
       "    }\n",
       "\n",
       "    .dataframe tbody tr th {\n",
       "        vertical-align: top;\n",
       "    }\n",
       "\n",
       "    .dataframe thead th {\n",
       "        text-align: right;\n",
       "    }\n",
       "</style>\n",
       "<table border=\"1\" class=\"dataframe\">\n",
       "  <thead>\n",
       "    <tr style=\"text-align: right;\">\n",
       "      <th></th>\n",
       "      <th>review_id</th>\n",
       "      <th>user_id</th>\n",
       "      <th>business_id</th>\n",
       "      <th>stars</th>\n",
       "      <th>useful</th>\n",
       "      <th>funny</th>\n",
       "      <th>cool</th>\n",
       "      <th>text</th>\n",
       "      <th>date</th>\n",
       "      <th>text_length</th>\n",
       "      <th>processed_review</th>\n",
       "      <th>sum_votes</th>\n",
       "      <th>review_age_days</th>\n",
       "      <th>review_weight</th>\n",
       "      <th>weighted_stars</th>\n",
       "    </tr>\n",
       "  </thead>\n",
       "  <tbody>\n",
       "    <tr>\n",
       "      <th>0</th>\n",
       "      <td>KU_O5udG6zpxOg-VcAEodg</td>\n",
       "      <td>mh_-eMZ6K5RLWhZyISBhwA</td>\n",
       "      <td>XQfwVwDr-v0ZS3_CbbE5Xw</td>\n",
       "      <td>3.0</td>\n",
       "      <td>0</td>\n",
       "      <td>0</td>\n",
       "      <td>0</td>\n",
       "      <td>If you decide to eat here, just be aware it is...</td>\n",
       "      <td>2018-07-07 22:09:11</td>\n",
       "      <td>101</td>\n",
       "      <td>decide eat aware going take hour beginning end...</td>\n",
       "      <td>0</td>\n",
       "      <td>2369</td>\n",
       "      <td>0.712890</td>\n",
       "      <td>2.138669</td>\n",
       "    </tr>\n",
       "    <tr>\n",
       "      <th>1</th>\n",
       "      <td>AqPFMleE6RsU23_auESxiA</td>\n",
       "      <td>_7bHUi9Uuf5__HHc_Q8guQ</td>\n",
       "      <td>kxX2SOes4o-D3ZQBkiMRfA</td>\n",
       "      <td>5.0</td>\n",
       "      <td>1</td>\n",
       "      <td>0</td>\n",
       "      <td>1</td>\n",
       "      <td>Wow!  Yummy, different,  delicious.   Our favo...</td>\n",
       "      <td>2015-01-04 00:01:03</td>\n",
       "      <td>48</td>\n",
       "      <td>wow yummy different delicious favorite lamb cu...</td>\n",
       "      <td>2</td>\n",
       "      <td>3649</td>\n",
       "      <td>0.593757</td>\n",
       "      <td>2.968783</td>\n",
       "    </tr>\n",
       "    <tr>\n",
       "      <th>2</th>\n",
       "      <td>oyaMhzBSwfGgemSGuZCdwQ</td>\n",
       "      <td>Dd1jQj7S-BFGqRbApFzCFw</td>\n",
       "      <td>YtSqYv1Q_pOltsVPSx54SA</td>\n",
       "      <td>5.0</td>\n",
       "      <td>0</td>\n",
       "      <td>0</td>\n",
       "      <td>0</td>\n",
       "      <td>Tremendous service (Big shout out to Douglas) ...</td>\n",
       "      <td>2013-06-24 11:21:25</td>\n",
       "      <td>42</td>\n",
       "      <td>tremendous service big shout douglas complemen...</td>\n",
       "      <td>0</td>\n",
       "      <td>4208</td>\n",
       "      <td>0.548185</td>\n",
       "      <td>2.740924</td>\n",
       "    </tr>\n",
       "  </tbody>\n",
       "</table>\n",
       "</div>"
      ],
      "text/plain": [
       "                review_id                 user_id             business_id  \\\n",
       "0  KU_O5udG6zpxOg-VcAEodg  mh_-eMZ6K5RLWhZyISBhwA  XQfwVwDr-v0ZS3_CbbE5Xw   \n",
       "1  AqPFMleE6RsU23_auESxiA  _7bHUi9Uuf5__HHc_Q8guQ  kxX2SOes4o-D3ZQBkiMRfA   \n",
       "2  oyaMhzBSwfGgemSGuZCdwQ  Dd1jQj7S-BFGqRbApFzCFw  YtSqYv1Q_pOltsVPSx54SA   \n",
       "\n",
       "   stars  useful  funny  cool  \\\n",
       "0    3.0       0      0     0   \n",
       "1    5.0       1      0     1   \n",
       "2    5.0       0      0     0   \n",
       "\n",
       "                                                text                 date  \\\n",
       "0  If you decide to eat here, just be aware it is...  2018-07-07 22:09:11   \n",
       "1  Wow!  Yummy, different,  delicious.   Our favo...  2015-01-04 00:01:03   \n",
       "2  Tremendous service (Big shout out to Douglas) ...  2013-06-24 11:21:25   \n",
       "\n",
       "   text_length                                   processed_review  sum_votes  \\\n",
       "0          101  decide eat aware going take hour beginning end...          0   \n",
       "1           48  wow yummy different delicious favorite lamb cu...          2   \n",
       "2           42  tremendous service big shout douglas complemen...          0   \n",
       "\n",
       "   review_age_days  review_weight  weighted_stars  \n",
       "0             2369       0.712890        2.138669  \n",
       "1             3649       0.593757        2.968783  \n",
       "2             4208       0.548185        2.740924  "
      ]
     },
     "execution_count": 8,
     "metadata": {},
     "output_type": "execute_result"
    }
   ],
   "source": [
    "reviews = pd.read_csv('review_final.csv')\n",
    "print(reviews.info())\n",
    "reviews.head(3)"
   ]
  },
  {
   "cell_type": "code",
   "execution_count": 9,
   "id": "5de986f0-836d-4244-ac5c-a19203087172",
   "metadata": {},
   "outputs": [
    {
     "name": "stdout",
     "output_type": "stream",
     "text": [
      "<class 'pandas.core.frame.DataFrame'>\n",
      "RangeIndex: 836679 entries, 0 to 836678\n",
      "Data columns (total 15 columns):\n",
      " #   Column            Non-Null Count   Dtype         \n",
      "---  ------            --------------   -----         \n",
      " 0   review_id         836679 non-null  object        \n",
      " 1   user_id           836679 non-null  object        \n",
      " 2   business_id       836679 non-null  object        \n",
      " 3   stars             836679 non-null  float64       \n",
      " 4   useful            836679 non-null  int64         \n",
      " 5   funny             836679 non-null  int64         \n",
      " 6   cool              836679 non-null  int64         \n",
      " 7   text              836679 non-null  object        \n",
      " 8   date              836679 non-null  datetime64[ns]\n",
      " 9   text_length       836679 non-null  int64         \n",
      " 10  processed_review  836588 non-null  object        \n",
      " 11  sum_votes         836679 non-null  int64         \n",
      " 12  review_age_days   836679 non-null  int64         \n",
      " 13  review_weight     836679 non-null  float64       \n",
      " 14  weighted_stars    836679 non-null  float64       \n",
      "dtypes: datetime64[ns](1), float64(3), int64(6), object(5)\n",
      "memory usage: 95.8+ MB\n",
      "None\n"
     ]
    }
   ],
   "source": [
    "from datetime import datetime\n",
    "\n",
    "reviews['date'] = pd.to_datetime(reviews['date'])\n",
    "print(reviews.info())"
   ]
  },
  {
   "cell_type": "code",
   "execution_count": 10,
   "id": "e092a942-ea22-477c-97d9-596719fb1db2",
   "metadata": {},
   "outputs": [
    {
     "data": {
      "text/html": [
       "<div>\n",
       "<style scoped>\n",
       "    .dataframe tbody tr th:only-of-type {\n",
       "        vertical-align: middle;\n",
       "    }\n",
       "\n",
       "    .dataframe tbody tr th {\n",
       "        vertical-align: top;\n",
       "    }\n",
       "\n",
       "    .dataframe thead th {\n",
       "        text-align: right;\n",
       "    }\n",
       "</style>\n",
       "<table border=\"1\" class=\"dataframe\">\n",
       "  <thead>\n",
       "    <tr style=\"text-align: right;\">\n",
       "      <th></th>\n",
       "      <th>user_id</th>\n",
       "      <th>business_id</th>\n",
       "      <th>stars</th>\n",
       "      <th>interaction</th>\n",
       "      <th>date</th>\n",
       "    </tr>\n",
       "  </thead>\n",
       "  <tbody>\n",
       "    <tr>\n",
       "      <th>0</th>\n",
       "      <td>mh_-eMZ6K5RLWhZyISBhwA</td>\n",
       "      <td>XQfwVwDr-v0ZS3_CbbE5Xw</td>\n",
       "      <td>3.0</td>\n",
       "      <td>1</td>\n",
       "      <td>2018-07-07 22:09:11</td>\n",
       "    </tr>\n",
       "    <tr>\n",
       "      <th>1</th>\n",
       "      <td>_7bHUi9Uuf5__HHc_Q8guQ</td>\n",
       "      <td>kxX2SOes4o-D3ZQBkiMRfA</td>\n",
       "      <td>5.0</td>\n",
       "      <td>1</td>\n",
       "      <td>2015-01-04 00:01:03</td>\n",
       "    </tr>\n",
       "  </tbody>\n",
       "</table>\n",
       "</div>"
      ],
      "text/plain": [
       "                  user_id             business_id  stars  interaction  \\\n",
       "0  mh_-eMZ6K5RLWhZyISBhwA  XQfwVwDr-v0ZS3_CbbE5Xw    3.0            1   \n",
       "1  _7bHUi9Uuf5__HHc_Q8guQ  kxX2SOes4o-D3ZQBkiMRfA    5.0            1   \n",
       "\n",
       "                 date  \n",
       "0 2018-07-07 22:09:11  \n",
       "1 2015-01-04 00:01:03  "
      ]
     },
     "execution_count": 10,
     "metadata": {},
     "output_type": "execute_result"
    }
   ],
   "source": [
    "reviews['interaction'] = reviews['stars'].apply(lambda x: 1 if x>=3 else 0)\n",
    "interaction_df = reviews[['user_id', 'business_id',\n",
    "                            'stars', 'interaction', 'date']]\n",
    "interaction_df.head(2)"
   ]
  },
  {
   "cell_type": "code",
   "execution_count": null,
   "id": "4a87c891-04d9-481f-8617-964a38cb35e3",
   "metadata": {},
   "outputs": [],
   "source": []
  },
  {
   "cell_type": "markdown",
   "id": "d18d4482-2fc3-48bd-8b93-0e8d0055e1a6",
   "metadata": {},
   "source": [
    "## Construct user-based collaborative filtering model"
   ]
  },
  {
   "cell_type": "code",
   "execution_count": 12,
   "id": "dc6c6b59-ada8-4baf-aa5f-c467ef1b0859",
   "metadata": {},
   "outputs": [],
   "source": [
    "# Leave-one-out train-test split \n",
    "train_df = interaction_df[interaction_df['date'] < '2021-01-01']\n",
    "test_df = interaction_df[interaction_df['date'] >= '2021-01-01']"
   ]
  },
  {
   "cell_type": "code",
   "execution_count": 13,
   "id": "9d189763-7451-43a2-8e45-fab48c13d429",
   "metadata": {},
   "outputs": [
    {
     "name": "stdout",
     "output_type": "stream",
     "text": [
      "train set size: 765907\n",
      "test set size: 70772\n"
     ]
    }
   ],
   "source": [
    "print('train set size:', len(train_df))\n",
    "print('test set size:', len(test_df))"
   ]
  },
  {
   "cell_type": "code",
   "execution_count": 14,
   "id": "c8389943-ae57-4cfa-abec-6a4e53c85d2c",
   "metadata": {},
   "outputs": [
    {
     "name": "stderr",
     "output_type": "stream",
     "text": [
      "C:\\Users\\woowe\\AppData\\Local\\Temp\\ipykernel_7268\\399367661.py:10: SettingWithCopyWarning: \n",
      "A value is trying to be set on a copy of a slice from a DataFrame.\n",
      "Try using .loc[row_indexer,col_indexer] = value instead\n",
      "\n",
      "See the caveats in the documentation: https://pandas.pydata.org/pandas-docs/stable/user_guide/indexing.html#returning-a-view-versus-a-copy\n",
      "  train_df['user_idx'] = train_df['user_id'].map(user_encoder)\n",
      "C:\\Users\\woowe\\AppData\\Local\\Temp\\ipykernel_7268\\399367661.py:11: SettingWithCopyWarning: \n",
      "A value is trying to be set on a copy of a slice from a DataFrame.\n",
      "Try using .loc[row_indexer,col_indexer] = value instead\n",
      "\n",
      "See the caveats in the documentation: https://pandas.pydata.org/pandas-docs/stable/user_guide/indexing.html#returning-a-view-versus-a-copy\n",
      "  train_df['item_idx'] = train_df['business_id'].map(item_encoder)\n"
     ]
    }
   ],
   "source": [
    "from scipy.sparse import hstack, csr_matrix\n",
    "from sklearn.preprocessing import StandardScaler\n",
    "from sklearn.metrics.pairwise import cosine_similarity\n",
    "\n",
    "# Step 1: user-item matrix from train_df\n",
    "user_encoder = {uid: idx for idx, uid in enumerate(train_df['user_id'].unique())}\n",
    "item_encoder = {iid: idx for idx, iid in enumerate(train_df['business_id'].unique())}\n",
    "user_decoder = {idx: uid for uid, idx in user_encoder.items()}\n",
    "\n",
    "train_df['user_idx'] = train_df['user_id'].map(user_encoder)\n",
    "train_df['item_idx'] = train_df['business_id'].map(item_encoder)\n",
    "\n",
    "user_item_matrix_sparse = csr_matrix((train_df['stars'], (train_df['user_idx'], train_df['item_idx'])))\n"
   ]
  },
  {
   "cell_type": "code",
   "execution_count": 15,
   "id": "b42f1694",
   "metadata": {},
   "outputs": [],
   "source": [
    "import pickle\n",
    "\n",
    "with open('user_encoder.pkl', 'wb') as f:\n",
    "    pickle.dump(user_encoder, f)\n",
    "    \n",
    "with open('item_encoder.pkl', 'wb') as f:\n",
    "    pickle.dump(item_encoder, f)\n",
    "    \n",
    "with open('user_decoder.pkl', 'wb') as f:\n",
    "    pickle.dump(user_decoder, f)"
   ]
  },
  {
   "cell_type": "code",
   "execution_count": 16,
   "id": "f00928fe-d314-4292-a633-1c4e9a991e79",
   "metadata": {},
   "outputs": [],
   "source": [
    "# Align users\n",
    "users = users[users['user_id'].isin(user_encoder)].copy()\n",
    "users = users.set_index('user_id').loc[user_encoder.keys()].reset_index()\n",
    "\n",
    "scaler = StandardScaler()\n",
    "user_features_scaled = scaler.fit_transform(users[user_features_report])\n",
    "user_features_sparse = csr_matrix(user_features_scaled)\n"
   ]
  },
  {
   "cell_type": "code",
   "execution_count": 17,
   "id": "36d20d63",
   "metadata": {},
   "outputs": [],
   "source": [
    "users.to_csv(\"users_df.csv\", index=False)"
   ]
  },
  {
   "cell_type": "code",
   "execution_count": 18,
   "id": "d9f3658e-c798-470f-b681-ec4833deb1bf",
   "metadata": {},
   "outputs": [],
   "source": [
    "hybrid_user_matrix = hstack([user_item_matrix_sparse, user_features_sparse])"
   ]
  },
  {
   "cell_type": "code",
   "execution_count": 19,
   "id": "b6f28b19",
   "metadata": {},
   "outputs": [],
   "source": [
    "from scipy import sparse\n",
    "\n",
    "sparse.save_npz(\"cf_matrix.npz\", hybrid_user_matrix)"
   ]
  },
  {
   "cell_type": "code",
   "execution_count": 20,
   "id": "923df4d5-e792-428e-bd10-cda3072f3578",
   "metadata": {},
   "outputs": [],
   "source": [
    "def get_hybrid_userbased_cf(user_id, k=10, visualize=True):\n",
    "    if user_id not in user_encoder:\n",
    "        return pd.DataFrame(columns=['business_id', 'predicted_score'])\n",
    "\n",
    "    user_idx = user_encoder[user_id]\n",
    "    query_vector = hybrid_user_matrix[user_idx].reshape(1, -1)\n",
    "\n",
    "    similarity_scores = cosine_similarity(query_vector, hybrid_user_matrix).flatten()\n",
    "    similarity_scores[user_idx] = 0  # remove self-similarity\n",
    "\n",
    "    # Get top-k similar users\n",
    "    top_k_indices = np.argsort(similarity_scores)[::-1][:k]\n",
    "    top_k_user_ids = [user_decoder[i] for i in top_k_indices]\n",
    "    top_k_similarities = similarity_scores[top_k_indices]\n",
    "\n",
    "    # Get ratings from these similar users\n",
    "    sim_user_ratings = train_df[train_df['user_id'].isin(top_k_user_ids)].copy()\n",
    "    sim_score_dict = dict(zip(top_k_user_ids, top_k_similarities))\n",
    "    sim_user_ratings['weight'] = sim_user_ratings['user_id'].map(sim_score_dict)\n",
    "    sim_user_ratings['weighted_ratings'] = sim_user_ratings['stars'] * sim_user_ratings['weight']\n",
    "\n",
    "    # Aggregate predictions\n",
    "    agg_df = sim_user_ratings.groupby('business_id').agg(\n",
    "        predicted_score=('weighted_ratings', 'sum'),\n",
    "        total_weight=('weight', 'sum')\n",
    "    )\n",
    "\n",
    "    agg_df['predicted_score'] = agg_df['predicted_score'] / agg_df['total_weight']\n",
    "    \n",
    "    # Select top-k\n",
    "    top_recs = agg_df.sort_values(by='predicted_score', ascending=False).head(k).reset_index()\n",
    "\n",
    "    \n",
    "    return top_recs[['business_id', 'predicted_score']]\n"
   ]
  },
  {
   "cell_type": "code",
   "execution_count": 21,
   "id": "9bd0f534-04f7-4bae-a332-a9953568dddc",
   "metadata": {},
   "outputs": [
    {
     "data": {
      "text/html": [
       "<div>\n",
       "<style scoped>\n",
       "    .dataframe tbody tr th:only-of-type {\n",
       "        vertical-align: middle;\n",
       "    }\n",
       "\n",
       "    .dataframe tbody tr th {\n",
       "        vertical-align: top;\n",
       "    }\n",
       "\n",
       "    .dataframe thead th {\n",
       "        text-align: right;\n",
       "    }\n",
       "</style>\n",
       "<table border=\"1\" class=\"dataframe\">\n",
       "  <thead>\n",
       "    <tr style=\"text-align: right;\">\n",
       "      <th></th>\n",
       "      <th>user_id</th>\n",
       "      <th>business_id</th>\n",
       "      <th>stars</th>\n",
       "      <th>interaction</th>\n",
       "      <th>date</th>\n",
       "    </tr>\n",
       "  </thead>\n",
       "  <tbody>\n",
       "    <tr>\n",
       "      <th>42877</th>\n",
       "      <td>rYvWv-Ny16b1lMcw1IP7JQ</td>\n",
       "      <td>jfIwOEXcVRyhZjM4ISOh4g</td>\n",
       "      <td>1.0</td>\n",
       "      <td>0</td>\n",
       "      <td>2021-01-02 00:19:00</td>\n",
       "    </tr>\n",
       "    <tr>\n",
       "      <th>43178</th>\n",
       "      <td>2ntnbUia9Bna62W0fqNcxg</td>\n",
       "      <td>S-VD26LE_LeJNx5nASk_pw</td>\n",
       "      <td>5.0</td>\n",
       "      <td>1</td>\n",
       "      <td>2021-01-26 18:01:45</td>\n",
       "    </tr>\n",
       "  </tbody>\n",
       "</table>\n",
       "</div>"
      ],
      "text/plain": [
       "                      user_id             business_id  stars  interaction  \\\n",
       "42877  rYvWv-Ny16b1lMcw1IP7JQ  jfIwOEXcVRyhZjM4ISOh4g    1.0            0   \n",
       "43178  2ntnbUia9Bna62W0fqNcxg  S-VD26LE_LeJNx5nASk_pw    5.0            1   \n",
       "\n",
       "                     date  \n",
       "42877 2021-01-02 00:19:00  \n",
       "43178 2021-01-26 18:01:45  "
      ]
     },
     "execution_count": 21,
     "metadata": {},
     "output_type": "execute_result"
    }
   ],
   "source": [
    "test_df.head(2)"
   ]
  },
  {
   "cell_type": "markdown",
   "id": "9f774640-07ea-48dd-b8e1-05a7527cef4e",
   "metadata": {},
   "source": [
    "### Evaluation - Hit@10"
   ]
  },
  {
   "cell_type": "code",
   "execution_count": 23,
   "id": "9b1443ff-a6f1-400c-b079-8df5a1fe5f95",
   "metadata": {},
   "outputs": [],
   "source": [
    "import numpy as np\n",
    "import matplotlib.pyplot as plt\n",
    "\n",
    "def hits_at_k(user_id, test_df, recommend_func, k=10):\n",
    "    # true_item = test_df.loc[test_df['user_id'] == user_id]['business_id'].iloc[0]\n",
    "    true_items = test_df[(test_df['user_id'] == user_id) &\n",
    "                         # Hit rate should consider if the user liked the restaurant\n",
    "                         (test_df['stars'] >= 3)\n",
    "                         ]['business_id'].tolist()\n",
    "    recommended = recommend_func(user_id, k)\n",
    "\n",
    "    recommended_items = recommended['business_id'].tolist()\n",
    "\n",
    "    return int(any(item in recommended_items for item in true_items))\n",
    "\n",
    "def plot_hit_rate_vs_users(test_df, max_users, step):\n",
    "    # Step 1: Get users sorted by interaction count descending\n",
    "    user_interaction_counts = (\n",
    "        test_df.groupby('user_id')\n",
    "        .size()\n",
    "        .sort_values(ascending=False)\n",
    "    )\n",
    "    sorted_users = user_interaction_counts.index.tolist()\n",
    "\n",
    "    # Step 2: Loop with cumulative hit calculation\n",
    "    hit_rates = []\n",
    "    total_hits = 0\n",
    "    evaluated_users = 0\n",
    "\n",
    "    for i in range(step, max_users + 1, step):\n",
    "        current_batch = sorted_users[evaluated_users:i]\n",
    "        hits_in_batch = sum(\n",
    "            hits_at_k(user, test_df, get_hybrid_userbased_cf, k=10)\n",
    "            for user in current_batch\n",
    "        )\n",
    "        total_hits += hits_in_batch\n",
    "        evaluated_users = i\n",
    "        hit_rate = total_hits / evaluated_users\n",
    "        hit_rates.append(hit_rate)\n",
    "\n",
    "    # Step 3: Plot\n",
    "    n_users_range = list(range(step, max_users + 1, step))\n",
    "    plt.figure(figsize=(10, 6))\n",
    "    plt.plot(n_users_range, hit_rates, marker='o', linestyle='-', color='b')\n",
    "    plt.xlabel(\"Number of Top Users (by Interactions)\")\n",
    "    plt.ylabel(\"Hit Rate@10\")\n",
    "    plt.title(\"Hit Rate vs. Number of Included Users\")\n",
    "    plt.grid(True)\n",
    "    plt.show()"
   ]
  },
  {
   "cell_type": "code",
   "execution_count": 24,
   "id": "a95af9f4-2c1f-4e29-bf0e-eb9931619731",
   "metadata": {},
   "outputs": [
    {
     "data": {
      "image/png": "[encoded data removed]",
      "text/plain": [
       "<Figure size 1000x600 with 1 Axes>"
      ]
     },
     "metadata": {},
     "output_type": "display_data"
    }
   ],
   "source": [
    "plot_hit_rate_vs_users(train_df, max_users=100, step=10)"
   ]
  },
  {
   "cell_type": "code",
   "execution_count": 25,
   "id": "c3c03dfd-3f03-4b57-927a-6792db636418",
   "metadata": {},
   "outputs": [
    {
     "data": {
      "image/png": "[encoded data removed]",
      "text/plain": [
       "<Figure size 1000x600 with 1 Axes>"
      ]
     },
     "metadata": {},
     "output_type": "display_data"
    }
   ],
   "source": [
    "plot_hit_rate_vs_users(test_df, max_users=100, step=10)"
   ]
  },
  {
   "cell_type": "code",
   "execution_count": null,
   "id": "5b74d5d1-0dad-4e50-830a-ad597984c30d",
   "metadata": {},
   "outputs": [],
   "source": []
  },
  {
   "cell_type": "code",
   "execution_count": 26,
   "id": "41767253-3143-4752-9e0f-655c244333de",
   "metadata": {},
   "outputs": [],
   "source": [
    "def plot_hit_rate_vs_users_random(test_df, max_users, step):\n",
    "    # Step 1: Get unique users and shuffle\n",
    "    unique_users = test_df['user_id'].unique().tolist()\n",
    "    random.seed(42)\n",
    "    random.shuffle(unique_users)\n",
    "\n",
    "    # Ensure we don't exceed the available number of users\n",
    "    max_users = min(max_users, len(unique_users))\n",
    "\n",
    "    # Step 2: Loop with cumulative hit calculation\n",
    "    hit_rates = []\n",
    "    total_hits = 0\n",
    "    evaluated_users = 0\n",
    "\n",
    "    for i in range(step, max_users + 1, step):\n",
    "        current_batch = unique_users[evaluated_users:i]\n",
    "        hits_in_batch = sum(\n",
    "            hits_at_k(user, test_df, get_hybrid_userbased_cf, k=10)\n",
    "            for user in current_batch\n",
    "        )\n",
    "        total_hits += hits_in_batch\n",
    "        evaluated_users = i\n",
    "        hit_rate = total_hits / evaluated_users\n",
    "        hit_rates.append(hit_rate)\n",
    "\n",
    "    # Step 3: Plot\n",
    "    n_users_range = list(range(step, max_users + 1, step))\n",
    "    plt.figure(figsize=(10, 6))\n",
    "    plt.plot(n_users_range, hit_rates, marker='o', linestyle='-', color='g')\n",
    "    plt.xlabel(\"Number of Random Users\")\n",
    "    plt.ylabel(\"Hit Rate@10\")\n",
    "    plt.title(\"Hit Rate vs. Number of Randomly Selected Users\")\n",
    "    plt.grid(True)\n",
    "    plt.show()"
   ]
  },
  {
   "cell_type": "code",
   "execution_count": 27,
   "id": "a07e689c-ae27-41ef-b76e-9f0ba51b6809",
   "metadata": {},
   "outputs": [
    {
     "data": {
      "image/png": "[encoded data removed]",
      "text/plain": [
       "<Figure size 1000x600 with 1 Axes>"
      ]
     },
     "metadata": {},
     "output_type": "display_data"
    }
   ],
   "source": [
    "plot_hit_rate_vs_users_random(train_df, 100, 10)"
   ]
  },
  {
   "cell_type": "code",
   "execution_count": 28,
   "id": "41772ee1-1025-4126-bfb4-9a0e0809218f",
   "metadata": {},
   "outputs": [
    {
     "data": {
      "image/png": "[encoded data removed]",
      "text/plain": [
       "<Figure size 1000x600 with 1 Axes>"
      ]
     },
     "metadata": {},
     "output_type": "display_data"
    }
   ],
   "source": [
    "plot_hit_rate_vs_users_random(test_df, 100, 10)"
   ]
  },
  {
   "cell_type": "code",
   "execution_count": null,
   "id": "8450d652-a5b8-4344-a25d-18c00e190a50",
   "metadata": {},
   "outputs": [],
   "source": []
  },
  {
   "cell_type": "markdown",
   "id": "ae091786-cf23-412c-a26a-efe41f586004",
   "metadata": {},
   "source": [
    "### Evaluation - NDCG@10"
   ]
  },
  {
   "cell_type": "code",
   "execution_count": 30,
   "id": "d37e991f-b46a-493a-87cc-be11c4fa57c3",
   "metadata": {},
   "outputs": [],
   "source": [
    "def dcg_at_k(relevance_scores, k):\n",
    "    relevance_scores = np.asarray(relevance_scores)[:k]\n",
    "    return np.sum((2**relevance_scores - 1) / np.log2(np.arange(2, relevance_scores.size + 2))) if relevance_scores.size else 0.\n",
    "\n",
    "\n",
    "def ndcg_at_k(relevance_scores, k):\n",
    "    dcg = dcg_at_k(relevance_scores, k)\n",
    "    idcg = dcg_at_k(sorted(relevance_scores, reverse=True), k)\n",
    "    return dcg / idcg if idcg > 0 else 0."
   ]
  },
  {
   "cell_type": "code",
   "execution_count": 31,
   "id": "0524f85c-f34b-4a6e-9264-3eeb35900c33",
   "metadata": {},
   "outputs": [],
   "source": [
    "def get_ndcg_at_k(user, test_df, k=10):\n",
    "    recommendations = get_hybrid_userbased_cf(user, k)\n",
    "    \n",
    "    if recommendations.empty:\n",
    "        return None\n",
    "    \n",
    "    #Get true items\n",
    "    true_items = test_df[test_df['user_id'] == user][['business_id', 'stars']]\n",
    "    \n",
    "    recommendations = recommendations[['business_id', 'predicted_score']]\n",
    "    recommendations = recommendations.merge(true_items, on=\"business_id\", how=\"left\")\n",
    "    \n",
    "    recommendations = recommendations.sort_values(\n",
    "        \"predicted_score\", ascending=False)\n",
    "    \n",
    "    if recommendations[\"stars\"].count() >= 2:\n",
    "        relevance_scores = recommendations[\"stars\"].dropna().tolist()\n",
    "        ndcg = ndcg_at_k(relevance_scores, k)\n",
    "        return ndcg\n",
    "    else:\n",
    "        return None"
   ]
  },
  {
   "cell_type": "code",
   "execution_count": 32,
   "id": "19856f61-0e0b-4051-b36e-aa0aa3560b81",
   "metadata": {},
   "outputs": [],
   "source": [
    "def ndcg_evaluation_top_n_users(test_df, n=100, k=10): \n",
    "    top_users = (\n",
    "    test_df\n",
    "    .groupby('user_id')\n",
    "    .size()\n",
    "    .sort_values(ascending=False)\n",
    "    .head(n)\n",
    "    .index.tolist()\n",
    "    )\n",
    "\n",
    "    ndcg_scores = []\n",
    "    for user in top_users:\n",
    "        ndcg = get_ndcg_at_k(user, test_df, k)\n",
    "        if ndcg is not None:\n",
    "            ndcg_scores.append(ndcg)\n",
    "\n",
    "    print(\"Mean NDCG@10: \", np.mean(ndcg_scores))"
   ]
  },
  {
   "cell_type": "code",
   "execution_count": 33,
   "id": "dca18bd3-79a5-4dc6-bcd2-cb15e5fdaa71",
   "metadata": {},
   "outputs": [
    {
     "name": "stdout",
     "output_type": "stream",
     "text": [
      "Mean NDCG@10:  0.9102043077506512\n"
     ]
    }
   ],
   "source": [
    "ndcg_evaluation_top_n_users(train_df, n=100, k=10)"
   ]
  },
  {
   "cell_type": "code",
   "execution_count": 34,
   "id": "7c2e70c7-c1ed-482f-b132-aea1e5ed78c0",
   "metadata": {},
   "outputs": [
    {
     "name": "stdout",
     "output_type": "stream",
     "text": [
      "Mean NDCG@10:  0.9445080744206904\n"
     ]
    }
   ],
   "source": [
    "ndcg_evaluation_top_n_users(test_df, n=100, k=10)"
   ]
  },
  {
   "cell_type": "code",
   "execution_count": null,
   "id": "529557d2-ad50-4f0b-9616-56745c56f0cf",
   "metadata": {},
   "outputs": [],
   "source": []
  },
  {
   "cell_type": "code",
   "execution_count": 35,
   "id": "e5bab53e-7c41-40d9-ba43-914099ef8453",
   "metadata": {},
   "outputs": [],
   "source": [
    "def ndcg_evaluation_random_n_users(test_df, n=100, k=10): \n",
    "    unique_users = test_df['user_id'].unique().tolist()\n",
    "    np.random.seed(42)\n",
    "\n",
    "    sampled_users = np.random.choice(unique_users, size=min(n, len(unique_users)), replace=False)\n",
    "\n",
    "    ndcg_scores = []\n",
    "    for user in sampled_users:\n",
    "        ndcg = get_ndcg_at_k(user, test_df, k)\n",
    "        if ndcg is not None:\n",
    "            ndcg_scores.append(ndcg)\n",
    "\n",
    "    print(\"Mean NDCG@10: \", np.mean(ndcg_scores))"
   ]
  },
  {
   "cell_type": "code",
   "execution_count": 36,
   "id": "ce152c3a-9166-478b-b3ae-2a8adc25c5a2",
   "metadata": {},
   "outputs": [
    {
     "name": "stdout",
     "output_type": "stream",
     "text": [
      "Mean NDCG@10:  0.95548256944111\n"
     ]
    }
   ],
   "source": [
    "ndcg_evaluation_random_n_users(train_df, n=100, k=10)"
   ]
  },
  {
   "cell_type": "code",
   "execution_count": 37,
   "id": "259b2596-9ff5-4650-8f73-a05f498660de",
   "metadata": {},
   "outputs": [
    {
     "name": "stdout",
     "output_type": "stream",
     "text": [
      "Mean NDCG@10:  nan\n"
     ]
    },
    {
     "name": "stderr",
     "output_type": "stream",
     "text": [
      "C:\\Users\\woowe\\anaconda\\Lib\\site-packages\\numpy\\core\\fromnumeric.py:3504: RuntimeWarning: Mean of empty slice.\n",
      "  return _methods._mean(a, axis=axis, dtype=dtype,\n",
      "C:\\Users\\woowe\\anaconda\\Lib\\site-packages\\numpy\\core\\_methods.py:129: RuntimeWarning: invalid value encountered in scalar divide\n",
      "  ret = ret.dtype.type(ret / rcount)\n"
     ]
    }
   ],
   "source": [
    "ndcg_evaluation_random_n_users(test_df, n=100, k=10)"
   ]
  },
  {
   "cell_type": "markdown",
   "id": "61f06f2e-fc2d-440f-8d25-c4d23c923675",
   "metadata": {},
   "source": [
    "Mean NDCG@10 for random 100 users in test_df is Nan as they could be cold-start users (not in train dataset). "
   ]
  },
  {
   "cell_type": "code",
   "execution_count": 39,
   "id": "ac133e85-7445-4e9e-b800-eaa10fb66db7",
   "metadata": {},
   "outputs": [
    {
     "name": "stdout",
     "output_type": "stream",
     "text": [
      "Total test users       : 37230\n",
      "Users also in train    : 15688\n",
      "Cold-start test users  : 21542\n"
     ]
    }
   ],
   "source": [
    "# Unique users in each set\n",
    "train_users = set(train_df['user_id'].unique())\n",
    "test_users = set(test_df['user_id'].unique())\n",
    "\n",
    "# Uers who are in both train and test\n",
    "overlapping_users = test_users.intersection(train_users)\n",
    "\n",
    "# Cold-start users: in test but not in train\n",
    "cold_start_users = test_users.difference(train_users)\n",
    "\n",
    "# Output\n",
    "print(f\"Total test users       : {len(test_users)}\")\n",
    "print(f\"Users also in train    : {len(overlapping_users)}\")\n",
    "print(f\"Cold-start test users  : {len(cold_start_users)}\")\n"
   ]
  },
  {
   "cell_type": "code",
   "execution_count": null,
   "id": "64becb6a-2e3d-421a-8550-c83b39b1e65e",
   "metadata": {},
   "outputs": [],
   "source": []
  },
  {
   "cell_type": "markdown",
   "id": "1e3212b1-9e0e-4925-abd7-c70b1d0df387",
   "metadata": {},
   "source": [
    "## Get Recommendations"
   ]
  },
  {
   "cell_type": "code",
   "execution_count": 41,
   "id": "cbb74e65-d5bb-4715-8b0f-adda7c207745",
   "metadata": {},
   "outputs": [
    {
     "data": {
      "text/html": [
       "<div>\n",
       "<style scoped>\n",
       "    .dataframe tbody tr th:only-of-type {\n",
       "        vertical-align: middle;\n",
       "    }\n",
       "\n",
       "    .dataframe tbody tr th {\n",
       "        vertical-align: top;\n",
       "    }\n",
       "\n",
       "    .dataframe thead th {\n",
       "        text-align: right;\n",
       "    }\n",
       "</style>\n",
       "<table border=\"1\" class=\"dataframe\">\n",
       "  <thead>\n",
       "    <tr style=\"text-align: right;\">\n",
       "      <th></th>\n",
       "      <th>business_id</th>\n",
       "      <th>predicted_score</th>\n",
       "    </tr>\n",
       "  </thead>\n",
       "  <tbody>\n",
       "    <tr>\n",
       "      <th>0</th>\n",
       "      <td>WL-0PLW5IzdnyUHGmiOrgQ</td>\n",
       "      <td>5.0</td>\n",
       "    </tr>\n",
       "    <tr>\n",
       "      <th>1</th>\n",
       "      <td>xdG_RW_QsAGJbXp46M_V8w</td>\n",
       "      <td>5.0</td>\n",
       "    </tr>\n",
       "    <tr>\n",
       "      <th>2</th>\n",
       "      <td>-rwfGlw6T5czqQO4uZGWYw</td>\n",
       "      <td>5.0</td>\n",
       "    </tr>\n",
       "    <tr>\n",
       "      <th>3</th>\n",
       "      <td>sYgyAxvuDP1799oiGXqE_A</td>\n",
       "      <td>5.0</td>\n",
       "    </tr>\n",
       "    <tr>\n",
       "      <th>4</th>\n",
       "      <td>YjLMWlHoBJHtYMLdFXfvVg</td>\n",
       "      <td>5.0</td>\n",
       "    </tr>\n",
       "    <tr>\n",
       "      <th>5</th>\n",
       "      <td>gpYBhnTk4KzvvH83TsZiQg</td>\n",
       "      <td>5.0</td>\n",
       "    </tr>\n",
       "    <tr>\n",
       "      <th>6</th>\n",
       "      <td>NQ01WqVX0tojNHKn-0sFww</td>\n",
       "      <td>5.0</td>\n",
       "    </tr>\n",
       "    <tr>\n",
       "      <th>7</th>\n",
       "      <td>Lp7o7wv0-QtupZeZP0QcMg</td>\n",
       "      <td>5.0</td>\n",
       "    </tr>\n",
       "    <tr>\n",
       "      <th>8</th>\n",
       "      <td>I8IPPZvEPdb_xG0nGIMyjA</td>\n",
       "      <td>5.0</td>\n",
       "    </tr>\n",
       "    <tr>\n",
       "      <th>9</th>\n",
       "      <td>HDdfUbox_zCbiyoNMhSVzg</td>\n",
       "      <td>5.0</td>\n",
       "    </tr>\n",
       "  </tbody>\n",
       "</table>\n",
       "</div>"
      ],
      "text/plain": [
       "              business_id  predicted_score\n",
       "0  WL-0PLW5IzdnyUHGmiOrgQ              5.0\n",
       "1  xdG_RW_QsAGJbXp46M_V8w              5.0\n",
       "2  -rwfGlw6T5czqQO4uZGWYw              5.0\n",
       "3  sYgyAxvuDP1799oiGXqE_A              5.0\n",
       "4  YjLMWlHoBJHtYMLdFXfvVg              5.0\n",
       "5  gpYBhnTk4KzvvH83TsZiQg              5.0\n",
       "6  NQ01WqVX0tojNHKn-0sFww              5.0\n",
       "7  Lp7o7wv0-QtupZeZP0QcMg              5.0\n",
       "8  I8IPPZvEPdb_xG0nGIMyjA              5.0\n",
       "9  HDdfUbox_zCbiyoNMhSVzg              5.0"
      ]
     },
     "execution_count": 41,
     "metadata": {},
     "output_type": "execute_result"
    }
   ],
   "source": [
    "recommendations = get_hybrid_userbased_cf('mh_-eMZ6K5RLWhZyISBhwA', k=10)\n",
    "recommendations"
   ]
  },
  {
   "cell_type": "code",
   "execution_count": null,
   "id": "15e08df9-7af0-4d5e-a8e3-9d2398dd4e87",
   "metadata": {},
   "outputs": [],
   "source": []
  }
 ],
 "metadata": {
  "kernelspec": {
   "display_name": "Python 3 (ipykernel)",
   "language": "python",
   "name": "python3"
  },
  "language_info": {
   "codemirror_mode": {
    "name": "ipython",
    "version": 3
   },
   "file_extension": ".py",
   "mimetype": "text/x-python",
   "name": "python",
   "nbconvert_exporter": "python",
   "pygments_lexer": "ipython3",
   "version": "3.12.7"
  }
 },
 "nbformat": 4,
 "nbformat_minor": 5
}
